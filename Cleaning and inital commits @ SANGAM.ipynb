{
 "cells": [
  {
   "cell_type": "code",
   "execution_count": 1,
   "metadata": {},
   "outputs": [],
   "source": [
    "import numpy as np\n",
    "import scipy as sp\n",
    "import pandas as pd\n",
    "import matplotlib.pyplot as plt\n",
    "import seaborn as sb"
   ]
  },
  {
   "cell_type": "code",
   "execution_count": 2,
   "metadata": {},
   "outputs": [],
   "source": [
    "df = pd.read_csv('./Sangam_2_train.csv')"
   ]
  },
  {
   "cell_type": "code",
   "execution_count": 3,
   "metadata": {},
   "outputs": [
    {
     "data": {
      "text/html": [
       "<div>\n",
       "<style scoped>\n",
       "    .dataframe tbody tr th:only-of-type {\n",
       "        vertical-align: middle;\n",
       "    }\n",
       "\n",
       "    .dataframe tbody tr th {\n",
       "        vertical-align: top;\n",
       "    }\n",
       "\n",
       "    .dataframe thead th {\n",
       "        text-align: right;\n",
       "    }\n",
       "</style>\n",
       "<table border=\"1\" class=\"dataframe\">\n",
       "  <thead>\n",
       "    <tr style=\"text-align: right;\">\n",
       "      <th></th>\n",
       "      <th>date_time</th>\n",
       "      <th>is_holiday</th>\n",
       "      <th>air_pollution_index</th>\n",
       "      <th>humidity</th>\n",
       "      <th>wind_speed</th>\n",
       "      <th>wind_direction</th>\n",
       "      <th>visibility_in_miles</th>\n",
       "      <th>dew_point</th>\n",
       "      <th>temperature</th>\n",
       "      <th>rain_p_h</th>\n",
       "      <th>snow_p_h</th>\n",
       "      <th>clouds_all</th>\n",
       "      <th>weather_type</th>\n",
       "      <th>weather_description</th>\n",
       "      <th>traffic_volume</th>\n",
       "      <th>Year</th>\n",
       "      <th>Month</th>\n",
       "      <th>Day</th>\n",
       "      <th>Hour</th>\n",
       "    </tr>\n",
       "  </thead>\n",
       "  <tbody>\n",
       "    <tr>\n",
       "      <th>0</th>\n",
       "      <td>2012-10-02 09:00:00</td>\n",
       "      <td>0</td>\n",
       "      <td>121</td>\n",
       "      <td>89</td>\n",
       "      <td>2</td>\n",
       "      <td>329</td>\n",
       "      <td>1</td>\n",
       "      <td>1</td>\n",
       "      <td>288.28</td>\n",
       "      <td>0.0</td>\n",
       "      <td>0.0</td>\n",
       "      <td>40</td>\n",
       "      <td>0</td>\n",
       "      <td>0</td>\n",
       "      <td>5545</td>\n",
       "      <td>2012</td>\n",
       "      <td>10</td>\n",
       "      <td>2</td>\n",
       "      <td>9</td>\n",
       "    </tr>\n",
       "    <tr>\n",
       "      <th>1</th>\n",
       "      <td>2012-10-02 10:00:00</td>\n",
       "      <td>0</td>\n",
       "      <td>178</td>\n",
       "      <td>67</td>\n",
       "      <td>3</td>\n",
       "      <td>330</td>\n",
       "      <td>1</td>\n",
       "      <td>1</td>\n",
       "      <td>289.36</td>\n",
       "      <td>0.0</td>\n",
       "      <td>0.0</td>\n",
       "      <td>75</td>\n",
       "      <td>0</td>\n",
       "      <td>1</td>\n",
       "      <td>4516</td>\n",
       "      <td>2012</td>\n",
       "      <td>10</td>\n",
       "      <td>2</td>\n",
       "      <td>10</td>\n",
       "    </tr>\n",
       "    <tr>\n",
       "      <th>2</th>\n",
       "      <td>2012-10-02 11:00:00</td>\n",
       "      <td>0</td>\n",
       "      <td>113</td>\n",
       "      <td>66</td>\n",
       "      <td>3</td>\n",
       "      <td>329</td>\n",
       "      <td>2</td>\n",
       "      <td>2</td>\n",
       "      <td>289.58</td>\n",
       "      <td>0.0</td>\n",
       "      <td>0.0</td>\n",
       "      <td>90</td>\n",
       "      <td>0</td>\n",
       "      <td>2</td>\n",
       "      <td>4767</td>\n",
       "      <td>2012</td>\n",
       "      <td>10</td>\n",
       "      <td>2</td>\n",
       "      <td>11</td>\n",
       "    </tr>\n",
       "    <tr>\n",
       "      <th>3</th>\n",
       "      <td>2012-10-02 12:00:00</td>\n",
       "      <td>0</td>\n",
       "      <td>20</td>\n",
       "      <td>66</td>\n",
       "      <td>3</td>\n",
       "      <td>329</td>\n",
       "      <td>5</td>\n",
       "      <td>5</td>\n",
       "      <td>290.13</td>\n",
       "      <td>0.0</td>\n",
       "      <td>0.0</td>\n",
       "      <td>90</td>\n",
       "      <td>0</td>\n",
       "      <td>2</td>\n",
       "      <td>5026</td>\n",
       "      <td>2012</td>\n",
       "      <td>10</td>\n",
       "      <td>2</td>\n",
       "      <td>12</td>\n",
       "    </tr>\n",
       "    <tr>\n",
       "      <th>4</th>\n",
       "      <td>2012-10-02 13:00:00</td>\n",
       "      <td>0</td>\n",
       "      <td>281</td>\n",
       "      <td>65</td>\n",
       "      <td>3</td>\n",
       "      <td>329</td>\n",
       "      <td>7</td>\n",
       "      <td>7</td>\n",
       "      <td>291.14</td>\n",
       "      <td>0.0</td>\n",
       "      <td>0.0</td>\n",
       "      <td>75</td>\n",
       "      <td>0</td>\n",
       "      <td>1</td>\n",
       "      <td>4918</td>\n",
       "      <td>2012</td>\n",
       "      <td>10</td>\n",
       "      <td>2</td>\n",
       "      <td>13</td>\n",
       "    </tr>\n",
       "  </tbody>\n",
       "</table>\n",
       "</div>"
      ],
      "text/plain": [
       "             date_time  is_holiday  air_pollution_index  humidity  wind_speed  \\\n",
       "0  2012-10-02 09:00:00           0                  121        89           2   \n",
       "1  2012-10-02 10:00:00           0                  178        67           3   \n",
       "2  2012-10-02 11:00:00           0                  113        66           3   \n",
       "3  2012-10-02 12:00:00           0                   20        66           3   \n",
       "4  2012-10-02 13:00:00           0                  281        65           3   \n",
       "\n",
       "   wind_direction  visibility_in_miles  dew_point  temperature  rain_p_h  \\\n",
       "0             329                    1          1       288.28       0.0   \n",
       "1             330                    1          1       289.36       0.0   \n",
       "2             329                    2          2       289.58       0.0   \n",
       "3             329                    5          5       290.13       0.0   \n",
       "4             329                    7          7       291.14       0.0   \n",
       "\n",
       "   snow_p_h  clouds_all  weather_type  weather_description  traffic_volume  \\\n",
       "0       0.0          40             0                    0            5545   \n",
       "1       0.0          75             0                    1            4516   \n",
       "2       0.0          90             0                    2            4767   \n",
       "3       0.0          90             0                    2            5026   \n",
       "4       0.0          75             0                    1            4918   \n",
       "\n",
       "   Year  Month  Day  Hour  \n",
       "0  2012     10    2     9  \n",
       "1  2012     10    2    10  \n",
       "2  2012     10    2    11  \n",
       "3  2012     10    2    12  \n",
       "4  2012     10    2    13  "
      ]
     },
     "execution_count": 3,
     "metadata": {},
     "output_type": "execute_result"
    }
   ],
   "source": [
    "df.head()"
   ]
  },
  {
   "cell_type": "code",
   "execution_count": 6,
   "metadata": {},
   "outputs": [],
   "source": [
    "# Cleaning excess and unwanted columns   @TRY 1\n",
    "\n",
    "df1 = df.drop(['date_time','wind_speed','dew_point','weather_description'],axis = 1)"
   ]
  },
  {
   "cell_type": "code",
   "execution_count": 7,
   "metadata": {},
   "outputs": [
    {
     "data": {
      "text/html": [
       "<div>\n",
       "<style scoped>\n",
       "    .dataframe tbody tr th:only-of-type {\n",
       "        vertical-align: middle;\n",
       "    }\n",
       "\n",
       "    .dataframe tbody tr th {\n",
       "        vertical-align: top;\n",
       "    }\n",
       "\n",
       "    .dataframe thead th {\n",
       "        text-align: right;\n",
       "    }\n",
       "</style>\n",
       "<table border=\"1\" class=\"dataframe\">\n",
       "  <thead>\n",
       "    <tr style=\"text-align: right;\">\n",
       "      <th></th>\n",
       "      <th>is_holiday</th>\n",
       "      <th>air_pollution_index</th>\n",
       "      <th>humidity</th>\n",
       "      <th>wind_direction</th>\n",
       "      <th>visibility_in_miles</th>\n",
       "      <th>temperature</th>\n",
       "      <th>rain_p_h</th>\n",
       "      <th>snow_p_h</th>\n",
       "      <th>clouds_all</th>\n",
       "      <th>weather_type</th>\n",
       "      <th>traffic_volume</th>\n",
       "      <th>Year</th>\n",
       "      <th>Month</th>\n",
       "      <th>Day</th>\n",
       "      <th>Hour</th>\n",
       "    </tr>\n",
       "  </thead>\n",
       "  <tbody>\n",
       "    <tr>\n",
       "      <th>0</th>\n",
       "      <td>0</td>\n",
       "      <td>121</td>\n",
       "      <td>89</td>\n",
       "      <td>329</td>\n",
       "      <td>1</td>\n",
       "      <td>288.28</td>\n",
       "      <td>0.0</td>\n",
       "      <td>0.0</td>\n",
       "      <td>40</td>\n",
       "      <td>0</td>\n",
       "      <td>5545</td>\n",
       "      <td>2012</td>\n",
       "      <td>10</td>\n",
       "      <td>2</td>\n",
       "      <td>9</td>\n",
       "    </tr>\n",
       "    <tr>\n",
       "      <th>1</th>\n",
       "      <td>0</td>\n",
       "      <td>178</td>\n",
       "      <td>67</td>\n",
       "      <td>330</td>\n",
       "      <td>1</td>\n",
       "      <td>289.36</td>\n",
       "      <td>0.0</td>\n",
       "      <td>0.0</td>\n",
       "      <td>75</td>\n",
       "      <td>0</td>\n",
       "      <td>4516</td>\n",
       "      <td>2012</td>\n",
       "      <td>10</td>\n",
       "      <td>2</td>\n",
       "      <td>10</td>\n",
       "    </tr>\n",
       "    <tr>\n",
       "      <th>2</th>\n",
       "      <td>0</td>\n",
       "      <td>113</td>\n",
       "      <td>66</td>\n",
       "      <td>329</td>\n",
       "      <td>2</td>\n",
       "      <td>289.58</td>\n",
       "      <td>0.0</td>\n",
       "      <td>0.0</td>\n",
       "      <td>90</td>\n",
       "      <td>0</td>\n",
       "      <td>4767</td>\n",
       "      <td>2012</td>\n",
       "      <td>10</td>\n",
       "      <td>2</td>\n",
       "      <td>11</td>\n",
       "    </tr>\n",
       "    <tr>\n",
       "      <th>3</th>\n",
       "      <td>0</td>\n",
       "      <td>20</td>\n",
       "      <td>66</td>\n",
       "      <td>329</td>\n",
       "      <td>5</td>\n",
       "      <td>290.13</td>\n",
       "      <td>0.0</td>\n",
       "      <td>0.0</td>\n",
       "      <td>90</td>\n",
       "      <td>0</td>\n",
       "      <td>5026</td>\n",
       "      <td>2012</td>\n",
       "      <td>10</td>\n",
       "      <td>2</td>\n",
       "      <td>12</td>\n",
       "    </tr>\n",
       "    <tr>\n",
       "      <th>4</th>\n",
       "      <td>0</td>\n",
       "      <td>281</td>\n",
       "      <td>65</td>\n",
       "      <td>329</td>\n",
       "      <td>7</td>\n",
       "      <td>291.14</td>\n",
       "      <td>0.0</td>\n",
       "      <td>0.0</td>\n",
       "      <td>75</td>\n",
       "      <td>0</td>\n",
       "      <td>4918</td>\n",
       "      <td>2012</td>\n",
       "      <td>10</td>\n",
       "      <td>2</td>\n",
       "      <td>13</td>\n",
       "    </tr>\n",
       "  </tbody>\n",
       "</table>\n",
       "</div>"
      ],
      "text/plain": [
       "   is_holiday  air_pollution_index  humidity  wind_direction  \\\n",
       "0           0                  121        89             329   \n",
       "1           0                  178        67             330   \n",
       "2           0                  113        66             329   \n",
       "3           0                   20        66             329   \n",
       "4           0                  281        65             329   \n",
       "\n",
       "   visibility_in_miles  temperature  rain_p_h  snow_p_h  clouds_all  \\\n",
       "0                    1       288.28       0.0       0.0          40   \n",
       "1                    1       289.36       0.0       0.0          75   \n",
       "2                    2       289.58       0.0       0.0          90   \n",
       "3                    5       290.13       0.0       0.0          90   \n",
       "4                    7       291.14       0.0       0.0          75   \n",
       "\n",
       "   weather_type  traffic_volume  Year  Month  Day  Hour  \n",
       "0             0            5545  2012     10    2     9  \n",
       "1             0            4516  2012     10    2    10  \n",
       "2             0            4767  2012     10    2    11  \n",
       "3             0            5026  2012     10    2    12  \n",
       "4             0            4918  2012     10    2    13  "
      ]
     },
     "execution_count": 7,
     "metadata": {},
     "output_type": "execute_result"
    }
   ],
   "source": [
    "df1.head()"
   ]
  },
  {
   "cell_type": "code",
   "execution_count": 8,
   "metadata": {},
   "outputs": [
    {
     "data": {
      "text/html": [
       "<div>\n",
       "<style scoped>\n",
       "    .dataframe tbody tr th:only-of-type {\n",
       "        vertical-align: middle;\n",
       "    }\n",
       "\n",
       "    .dataframe tbody tr th {\n",
       "        vertical-align: top;\n",
       "    }\n",
       "\n",
       "    .dataframe thead th {\n",
       "        text-align: right;\n",
       "    }\n",
       "</style>\n",
       "<table border=\"1\" class=\"dataframe\">\n",
       "  <thead>\n",
       "    <tr style=\"text-align: right;\">\n",
       "      <th></th>\n",
       "      <th>is_holiday</th>\n",
       "      <th>air_pollution_index</th>\n",
       "      <th>humidity</th>\n",
       "      <th>wind_direction</th>\n",
       "      <th>visibility_in_miles</th>\n",
       "      <th>temperature</th>\n",
       "      <th>rain_p_h</th>\n",
       "      <th>snow_p_h</th>\n",
       "      <th>clouds_all</th>\n",
       "      <th>weather_type</th>\n",
       "      <th>traffic_volume</th>\n",
       "      <th>Year</th>\n",
       "      <th>Month</th>\n",
       "      <th>Day</th>\n",
       "      <th>Hour</th>\n",
       "    </tr>\n",
       "  </thead>\n",
       "  <tbody>\n",
       "    <tr>\n",
       "      <th>33745</th>\n",
       "      <td>0</td>\n",
       "      <td>74</td>\n",
       "      <td>85</td>\n",
       "      <td>328</td>\n",
       "      <td>7</td>\n",
       "      <td>287.88</td>\n",
       "      <td>0.0</td>\n",
       "      <td>0.0</td>\n",
       "      <td>90</td>\n",
       "      <td>4</td>\n",
       "      <td>2348</td>\n",
       "      <td>2017</td>\n",
       "      <td>5</td>\n",
       "      <td>17</td>\n",
       "      <td>21</td>\n",
       "    </tr>\n",
       "    <tr>\n",
       "      <th>33746</th>\n",
       "      <td>0</td>\n",
       "      <td>81</td>\n",
       "      <td>70</td>\n",
       "      <td>24</td>\n",
       "      <td>2</td>\n",
       "      <td>286.95</td>\n",
       "      <td>0.0</td>\n",
       "      <td>0.0</td>\n",
       "      <td>90</td>\n",
       "      <td>2</td>\n",
       "      <td>2194</td>\n",
       "      <td>2017</td>\n",
       "      <td>5</td>\n",
       "      <td>17</td>\n",
       "      <td>22</td>\n",
       "    </tr>\n",
       "    <tr>\n",
       "      <th>33747</th>\n",
       "      <td>0</td>\n",
       "      <td>138</td>\n",
       "      <td>70</td>\n",
       "      <td>24</td>\n",
       "      <td>1</td>\n",
       "      <td>286.95</td>\n",
       "      <td>0.0</td>\n",
       "      <td>0.0</td>\n",
       "      <td>90</td>\n",
       "      <td>4</td>\n",
       "      <td>2194</td>\n",
       "      <td>2017</td>\n",
       "      <td>5</td>\n",
       "      <td>17</td>\n",
       "      <td>22</td>\n",
       "    </tr>\n",
       "    <tr>\n",
       "      <th>33748</th>\n",
       "      <td>0</td>\n",
       "      <td>229</td>\n",
       "      <td>66</td>\n",
       "      <td>42</td>\n",
       "      <td>6</td>\n",
       "      <td>285.75</td>\n",
       "      <td>0.0</td>\n",
       "      <td>0.0</td>\n",
       "      <td>90</td>\n",
       "      <td>2</td>\n",
       "      <td>1328</td>\n",
       "      <td>2017</td>\n",
       "      <td>5</td>\n",
       "      <td>17</td>\n",
       "      <td>23</td>\n",
       "    </tr>\n",
       "    <tr>\n",
       "      <th>33749</th>\n",
       "      <td>0</td>\n",
       "      <td>140</td>\n",
       "      <td>63</td>\n",
       "      <td>27</td>\n",
       "      <td>8</td>\n",
       "      <td>285.75</td>\n",
       "      <td>0.0</td>\n",
       "      <td>0.0</td>\n",
       "      <td>90</td>\n",
       "      <td>4</td>\n",
       "      <td>1328</td>\n",
       "      <td>2017</td>\n",
       "      <td>5</td>\n",
       "      <td>17</td>\n",
       "      <td>23</td>\n",
       "    </tr>\n",
       "  </tbody>\n",
       "</table>\n",
       "</div>"
      ],
      "text/plain": [
       "       is_holiday  air_pollution_index  humidity  wind_direction  \\\n",
       "33745           0                   74        85             328   \n",
       "33746           0                   81        70              24   \n",
       "33747           0                  138        70              24   \n",
       "33748           0                  229        66              42   \n",
       "33749           0                  140        63              27   \n",
       "\n",
       "       visibility_in_miles  temperature  rain_p_h  snow_p_h  clouds_all  \\\n",
       "33745                    7       287.88       0.0       0.0          90   \n",
       "33746                    2       286.95       0.0       0.0          90   \n",
       "33747                    1       286.95       0.0       0.0          90   \n",
       "33748                    6       285.75       0.0       0.0          90   \n",
       "33749                    8       285.75       0.0       0.0          90   \n",
       "\n",
       "       weather_type  traffic_volume  Year  Month  Day  Hour  \n",
       "33745             4            2348  2017      5   17    21  \n",
       "33746             2            2194  2017      5   17    22  \n",
       "33747             4            2194  2017      5   17    22  \n",
       "33748             2            1328  2017      5   17    23  \n",
       "33749             4            1328  2017      5   17    23  "
      ]
     },
     "execution_count": 8,
     "metadata": {},
     "output_type": "execute_result"
    }
   ],
   "source": [
    "df1.tail()"
   ]
  },
  {
   "cell_type": "code",
   "execution_count": 12,
   "metadata": {},
   "outputs": [
    {
     "name": "stdout",
     "output_type": "stream",
     "text": [
      "<class 'pandas.core.frame.DataFrame'>\n",
      "RangeIndex: 33750 entries, 0 to 33749\n",
      "Data columns (total 15 columns):\n",
      "is_holiday             33750 non-null int64\n",
      "air_pollution_index    33750 non-null int64\n",
      "humidity               33750 non-null int64\n",
      "wind_direction         33750 non-null int64\n",
      "visibility_in_miles    33750 non-null int64\n",
      "temperature            33750 non-null float64\n",
      "rain_p_h               33750 non-null float64\n",
      "snow_p_h               33750 non-null float64\n",
      "clouds_all             33750 non-null int64\n",
      "weather_type           33750 non-null int64\n",
      "traffic_volume         33750 non-null int64\n",
      "Year                   33750 non-null int64\n",
      "Month                  33750 non-null int64\n",
      "Day                    33750 non-null int64\n",
      "Hour                   33750 non-null int64\n",
      "dtypes: float64(3), int64(12)\n",
      "memory usage: 3.9 MB\n"
     ]
    }
   ],
   "source": [
    "df1.info()"
   ]
  },
  {
   "cell_type": "code",
   "execution_count": 10,
   "metadata": {},
   "outputs": [],
   "source": [
    "# encoded weather type, etc"
   ]
  },
  {
   "cell_type": "markdown",
   "metadata": {},
   "source": [
    "# NUMPY CREATION"
   ]
  },
  {
   "cell_type": "code",
   "execution_count": 214,
   "metadata": {},
   "outputs": [
    {
     "name": "stdout",
     "output_type": "stream",
     "text": [
      "(33750, 15)\n"
     ]
    }
   ],
   "source": [
    "data = np.array(df1)\n",
    "print(data.shape)"
   ]
  },
  {
   "cell_type": "code",
   "execution_count": 32,
   "metadata": {},
   "outputs": [],
   "source": [
    "x1 = data[:,:10]"
   ]
  },
  {
   "cell_type": "code",
   "execution_count": 38,
   "metadata": {},
   "outputs": [
    {
     "name": "stdout",
     "output_type": "stream",
     "text": [
      "[[  0. 121.  89. ...   0.  40.   0.]\n",
      " [  0. 178.  67. ...   0.  75.   0.]\n",
      " [  0. 113.  66. ...   0.  90.   0.]\n",
      " ...\n",
      " [  0. 138.  70. ...   0.  90.   4.]\n",
      " [  0. 229.  66. ...   0.  90.   2.]\n",
      " [  0. 140.  63. ...   0.  90.   4.]]\n",
      "(33750, 10)\n"
     ]
    }
   ],
   "source": [
    "print(x1)\n",
    "print(x1.shape)"
   ]
  },
  {
   "cell_type": "code",
   "execution_count": 34,
   "metadata": {},
   "outputs": [],
   "source": [
    "x2 = data[:,11:]\n"
   ]
  },
  {
   "cell_type": "code",
   "execution_count": 36,
   "metadata": {},
   "outputs": [
    {
     "name": "stdout",
     "output_type": "stream",
     "text": [
      "[[2.012e+03 1.000e+01 2.000e+00 9.000e+00]\n",
      " [2.012e+03 1.000e+01 2.000e+00 1.000e+01]\n",
      " [2.012e+03 1.000e+01 2.000e+00 1.100e+01]\n",
      " ...\n",
      " [2.017e+03 5.000e+00 1.700e+01 2.200e+01]\n",
      " [2.017e+03 5.000e+00 1.700e+01 2.300e+01]\n",
      " [2.017e+03 5.000e+00 1.700e+01 2.300e+01]]\n",
      "(33750, 4)\n"
     ]
    }
   ],
   "source": [
    "print(x2)\n",
    "print(x2.shape)"
   ]
  },
  {
   "cell_type": "code",
   "execution_count": 43,
   "metadata": {},
   "outputs": [],
   "source": [
    "X = np.zeros((33750,14))"
   ]
  },
  {
   "cell_type": "code",
   "execution_count": 44,
   "metadata": {},
   "outputs": [],
   "source": [
    "X[:,:4]=x2\n",
    "X[:,4:]=x1"
   ]
  },
  {
   "cell_type": "code",
   "execution_count": 45,
   "metadata": {},
   "outputs": [
    {
     "name": "stdout",
     "output_type": "stream",
     "text": [
      "[[2.012e+03 1.000e+01 2.000e+00 ... 0.000e+00 4.000e+01 0.000e+00]\n",
      " [2.012e+03 1.000e+01 2.000e+00 ... 0.000e+00 7.500e+01 0.000e+00]\n",
      " [2.012e+03 1.000e+01 2.000e+00 ... 0.000e+00 9.000e+01 0.000e+00]\n",
      " ...\n",
      " [2.017e+03 5.000e+00 1.700e+01 ... 0.000e+00 9.000e+01 4.000e+00]\n",
      " [2.017e+03 5.000e+00 1.700e+01 ... 0.000e+00 9.000e+01 2.000e+00]\n",
      " [2.017e+03 5.000e+00 1.700e+01 ... 0.000e+00 9.000e+01 4.000e+00]]\n"
     ]
    }
   ],
   "source": [
    "print(X)"
   ]
  },
  {
   "cell_type": "code",
   "execution_count": 46,
   "metadata": {},
   "outputs": [
    {
     "name": "stdout",
     "output_type": "stream",
     "text": [
      "(33750, 14)\n"
     ]
    }
   ],
   "source": [
    "print(X.shape)"
   ]
  },
  {
   "cell_type": "code",
   "execution_count": 49,
   "metadata": {},
   "outputs": [],
   "source": [
    "Y = data[:,10]"
   ]
  },
  {
   "cell_type": "code",
   "execution_count": 51,
   "metadata": {},
   "outputs": [
    {
     "name": "stdout",
     "output_type": "stream",
     "text": [
      "[5545. 4516. 4767. ... 2194. 1328. 1328.]\n",
      "(33750,)\n"
     ]
    }
   ],
   "source": [
    "print(Y)\n",
    "print(Y.shape)"
   ]
  },
  {
   "cell_type": "markdown",
   "metadata": {},
   "source": [
    "Train:validation split 80:20\n",
    "\n",
    "ref https://scikit-learn.org/stable/modules/generated/sklearn.model_selection.train_test_split.html\n",
    "try changing ratio"
   ]
  },
  {
   "cell_type": "code",
   "execution_count": 57,
   "metadata": {},
   "outputs": [],
   "source": [
    "from sklearn.model_selection import train_test_split"
   ]
  },
  {
   "cell_type": "code",
   "execution_count": 61,
   "metadata": {},
   "outputs": [],
   "source": [
    "X_train, X_test, Y_train, Y_test = train_test_split(X,Y,test_size=0.20)"
   ]
  },
  {
   "cell_type": "code",
   "execution_count": 63,
   "metadata": {},
   "outputs": [
    {
     "name": "stdout",
     "output_type": "stream",
     "text": [
      "(27000, 14)\n",
      "(27000,)\n",
      "(6750, 14)\n",
      "(6750,)\n"
     ]
    }
   ],
   "source": [
    "print(X_train.shape)\n",
    "print(Y_train.shape)\n",
    "print(X_test.shape)\n",
    "print(Y_test.shape)\n"
   ]
  },
  {
   "cell_type": "code",
   "execution_count": 109,
   "metadata": {},
   "outputs": [
    {
     "name": "stdout",
     "output_type": "stream",
     "text": [
      "[[2.013e+03 9.000e+00 1.300e+01 ... 0.000e+00 1.000e+00 1.000e+00]\n",
      " [2.017e+03 3.000e+00 3.000e+00 ... 0.000e+00 4.000e+01 0.000e+00]\n",
      " [2.013e+03 7.000e+00 1.400e+01 ... 0.000e+00 8.000e+00 4.000e+00]\n",
      " ...\n",
      " [2.016e+03 8.000e+00 2.900e+01 ... 0.000e+00 9.000e+01 2.000e+00]\n",
      " [2.016e+03 9.000e+00 1.200e+01 ... 0.000e+00 9.000e+01 0.000e+00]\n",
      " [2.013e+03 3.000e+00 1.100e+01 ... 0.000e+00 9.000e+01 2.000e+00]]\n"
     ]
    }
   ],
   "source": [
    "print(X_train)"
   ]
  },
  {
   "cell_type": "code",
   "execution_count": 110,
   "metadata": {},
   "outputs": [
    {
     "name": "stdout",
     "output_type": "stream",
     "text": [
      "[ 383. 3524.  328. ... 3166.  277. 4870.]\n"
     ]
    }
   ],
   "source": [
    "print(Y_test)"
   ]
  },
  {
   "cell_type": "markdown",
   "metadata": {},
   "source": [
    "# Applying SGDregressor on X,Y\n",
    "refrence for tuning: https://scikit-learn.org/stable/modules/generated/sklearn.linear_model.SGDRegressor.html#sklearn.linear_model.SGDRegressor"
   ]
  },
  {
   "cell_type": "code",
   "execution_count": 101,
   "metadata": {},
   "outputs": [],
   "source": [
    "from sklearn.linear_model import SGDRegressor"
   ]
  },
  {
   "cell_type": "code",
   "execution_count": 142,
   "metadata": {},
   "outputs": [],
   "source": [
    "reg = SGDRegressor(max_iter=1000)"
   ]
  },
  {
   "cell_type": "code",
   "execution_count": 197,
   "metadata": {},
   "outputs": [
    {
     "data": {
      "text/plain": [
       "SGDRegressor(alpha=0.0001, average=False, early_stopping=False, epsilon=0.1,\n",
       "             eta0=0.01, fit_intercept=True, l1_ratio=0.15,\n",
       "             learning_rate='invscaling', loss='squared_loss', max_iter=1000,\n",
       "             n_iter_no_change=5, penalty='l2', power_t=0.25, random_state=None,\n",
       "             shuffle=True, tol=0.001, validation_fraction=0.1, verbose=0,\n",
       "             warm_start=False)"
      ]
     },
     "execution_count": 197,
     "metadata": {},
     "output_type": "execute_result"
    }
   ],
   "source": [
    "reg.fit(X_train,Y_train,coef_init=None, intercept_init=None, sample_weight=None)"
   ]
  },
  {
   "cell_type": "code",
   "execution_count": 65,
   "metadata": {},
   "outputs": [],
   "source": [
    "# done :)"
   ]
  },
  {
   "cell_type": "markdown",
   "metadata": {},
   "source": [
    "# Predicting and score calculation on validation set"
   ]
  },
  {
   "cell_type": "code",
   "execution_count": 112,
   "metadata": {},
   "outputs": [],
   "source": [
    "from sklearn.metrics import mean_squared_log_error"
   ]
  },
  {
   "cell_type": "code",
   "execution_count": 198,
   "metadata": {},
   "outputs": [],
   "source": [
    "#predicting\n",
    "Y_pred = reg.predict(X_test)"
   ]
  },
  {
   "cell_type": "code",
   "execution_count": 199,
   "metadata": {},
   "outputs": [
    {
     "name": "stdout",
     "output_type": "stream",
     "text": [
      "(6750,)\n"
     ]
    }
   ],
   "source": [
    "print(Y_pred.shape)"
   ]
  },
  {
   "cell_type": "code",
   "execution_count": 200,
   "metadata": {},
   "outputs": [
    {
     "name": "stdout",
     "output_type": "stream",
     "text": [
      "[ 43008.30684863   8020.67141495 -26397.57616246 ...  14769.03967065\n",
      "  12490.46682798  -9820.51244995]\n"
     ]
    }
   ],
   "source": [
    "print(Y_pred)\n"
   ]
  },
  {
   "cell_type": "code",
   "execution_count": 201,
   "metadata": {},
   "outputs": [],
   "source": [
    "# inverse transform"
   ]
  },
  {
   "cell_type": "code",
   "execution_count": 202,
   "metadata": {},
   "outputs": [],
   "source": [
    "Y_pred = scale1.inverse_transform(Y_pred)\n",
    "Y_test = scale1.inverse_transform(Y_test)"
   ]
  },
  {
   "cell_type": "code",
   "execution_count": 203,
   "metadata": {},
   "outputs": [
    {
     "ename": "ValueError",
     "evalue": "Mean Squared Logarithmic Error cannot be used when targets contain negative values.",
     "output_type": "error",
     "traceback": [
      "\u001b[1;31m---------------------------------------------------------------------------\u001b[0m",
      "\u001b[1;31mValueError\u001b[0m                                Traceback (most recent call last)",
      "\u001b[1;32m<ipython-input-203-21907bbfc29e>\u001b[0m in \u001b[0;36m<module>\u001b[1;34m\u001b[0m\n\u001b[1;32m----> 1\u001b[1;33m \u001b[0merr\u001b[0m \u001b[1;33m=\u001b[0m \u001b[0mmean_squared_log_error\u001b[0m\u001b[1;33m(\u001b[0m\u001b[0mY_test\u001b[0m\u001b[1;33m,\u001b[0m\u001b[0mY_pred\u001b[0m\u001b[1;33m)\u001b[0m\u001b[1;33m\u001b[0m\u001b[1;33m\u001b[0m\u001b[0m\n\u001b[0m",
      "\u001b[1;32mc:\\users\\dell\\appdata\\local\\programs\\python\\python37\\lib\\site-packages\\sklearn\\metrics\\regression.py\u001b[0m in \u001b[0;36mmean_squared_log_error\u001b[1;34m(y_true, y_pred, sample_weight, multioutput)\u001b[0m\n\u001b[0;32m    314\u001b[0m \u001b[1;33m\u001b[0m\u001b[0m\n\u001b[0;32m    315\u001b[0m     \u001b[1;32mif\u001b[0m \u001b[1;33m(\u001b[0m\u001b[0my_true\u001b[0m \u001b[1;33m<\u001b[0m \u001b[1;36m0\u001b[0m\u001b[1;33m)\u001b[0m\u001b[1;33m.\u001b[0m\u001b[0many\u001b[0m\u001b[1;33m(\u001b[0m\u001b[1;33m)\u001b[0m \u001b[1;32mor\u001b[0m \u001b[1;33m(\u001b[0m\u001b[0my_pred\u001b[0m \u001b[1;33m<\u001b[0m \u001b[1;36m0\u001b[0m\u001b[1;33m)\u001b[0m\u001b[1;33m.\u001b[0m\u001b[0many\u001b[0m\u001b[1;33m(\u001b[0m\u001b[1;33m)\u001b[0m\u001b[1;33m:\u001b[0m\u001b[1;33m\u001b[0m\u001b[1;33m\u001b[0m\u001b[0m\n\u001b[1;32m--> 316\u001b[1;33m         raise ValueError(\"Mean Squared Logarithmic Error cannot be used when \"\n\u001b[0m\u001b[0;32m    317\u001b[0m                          \"targets contain negative values.\")\n\u001b[0;32m    318\u001b[0m \u001b[1;33m\u001b[0m\u001b[0m\n",
      "\u001b[1;31mValueError\u001b[0m: Mean Squared Logarithmic Error cannot be used when targets contain negative values."
     ]
    }
   ],
   "source": [
    "err = mean_squared_log_error(Y_test,Y_pred)"
   ]
  },
  {
   "cell_type": "markdown",
   "metadata": {},
   "source": [
    "# Visualising Error"
   ]
  },
  {
   "cell_type": "code",
   "execution_count": 204,
   "metadata": {},
   "outputs": [
    {
     "data": {
      "text/plain": [
       "[<matplotlib.lines.Line2D at 0x24ceec9f0c8>]"
      ]
     },
     "execution_count": 204,
     "metadata": {},
     "output_type": "execute_result"
    },
    {
     "data": {
      "image/png": "[encoded data removed]",
      "text/plain": [
       "<Figure size 432x288 with 1 Axes>"
      ]
     },
     "metadata": {
      "needs_background": "light"
     },
     "output_type": "display_data"
    }
   ],
   "source": [
    "plt.plot(Y_pred)"
   ]
  },
  {
   "cell_type": "markdown",
   "metadata": {},
   "source": [
    "# Using Linear Model LinearSVR"
   ]
  },
  {
   "cell_type": "code",
   "execution_count": 179,
   "metadata": {},
   "outputs": [],
   "source": [
    "from sklearn.svm import LinearSVR"
   ]
  },
  {
   "cell_type": "code",
   "execution_count": 180,
   "metadata": {},
   "outputs": [],
   "source": [
    "reg1 = LinearSVR()"
   ]
  },
  {
   "cell_type": "code",
   "execution_count": 196,
   "metadata": {},
   "outputs": [
    {
     "name": "stderr",
     "output_type": "stream",
     "text": [
      "c:\\users\\dell\\appdata\\local\\programs\\python\\python37\\lib\\site-packages\\sklearn\\svm\\base.py:929: ConvergenceWarning: Liblinear failed to converge, increase the number of iterations.\n",
      "  \"the number of iterations.\", ConvergenceWarning)\n"
     ]
    },
    {
     "data": {
      "text/plain": [
       "LinearSVR(C=1.0, dual=True, epsilon=0.0, fit_intercept=True,\n",
       "          intercept_scaling=1.0, loss='epsilon_insensitive', max_iter=1000,\n",
       "          random_state=None, tol=0.0001, verbose=0)"
      ]
     },
     "execution_count": 196,
     "metadata": {},
     "output_type": "execute_result"
    }
   ],
   "source": [
    "reg1.fit(X_train,Y_train,sample_weight=None)\n",
    "\n",
    "# after scaling"
   ]
  },
  {
   "cell_type": "code",
   "execution_count": 138,
   "metadata": {},
   "outputs": [],
   "source": [
    "Y_pred1 = reg1.predict(X_test)"
   ]
  },
  {
   "cell_type": "code",
   "execution_count": 139,
   "metadata": {},
   "outputs": [
    {
     "name": "stdout",
     "output_type": "stream",
     "text": [
      "[1565.4900369  1875.85625182 1411.71165134 ... 3536.75441157 1319.90184424\n",
      " 2616.53012634]\n"
     ]
    }
   ],
   "source": [
    "print(Y_pred1)"
   ]
  },
  {
   "cell_type": "code",
   "execution_count": null,
   "metadata": {},
   "outputs": [],
   "source": []
  },
  {
   "cell_type": "code",
   "execution_count": 141,
   "metadata": {},
   "outputs": [
    {
     "data": {
      "text/plain": [
       "[<matplotlib.lines.Line2D at 0x24ceea1d388>]"
      ]
     },
     "execution_count": 141,
     "metadata": {},
     "output_type": "execute_result"
    },
    {
     "data": {
      "image/png": "[encoded data removed]",
      "text/plain": [
       "<Figure size 432x288 with 1 Axes>"
      ]
     },
     "metadata": {
      "needs_background": "light"
     },
     "output_type": "display_data"
    }
   ],
   "source": [
    "plt.plot(Y_pred1)"
   ]
  },
  {
   "cell_type": "code",
   "execution_count": 140,
   "metadata": {},
   "outputs": [
    {
     "ename": "ValueError",
     "evalue": "Mean Squared Logarithmic Error cannot be used when targets contain negative values.",
     "output_type": "error",
     "traceback": [
      "\u001b[1;31m---------------------------------------------------------------------------\u001b[0m",
      "\u001b[1;31mValueError\u001b[0m                                Traceback (most recent call last)",
      "\u001b[1;32m<ipython-input-140-21d465592557>\u001b[0m in \u001b[0;36m<module>\u001b[1;34m\u001b[0m\n\u001b[1;32m----> 1\u001b[1;33m \u001b[0merr\u001b[0m \u001b[1;33m=\u001b[0m \u001b[0mmean_squared_log_error\u001b[0m\u001b[1;33m(\u001b[0m\u001b[0mY_test\u001b[0m\u001b[1;33m,\u001b[0m\u001b[0mY_pred1\u001b[0m\u001b[1;33m)\u001b[0m\u001b[1;33m\u001b[0m\u001b[1;33m\u001b[0m\u001b[0m\n\u001b[0m",
      "\u001b[1;32mc:\\users\\dell\\appdata\\local\\programs\\python\\python37\\lib\\site-packages\\sklearn\\metrics\\regression.py\u001b[0m in \u001b[0;36mmean_squared_log_error\u001b[1;34m(y_true, y_pred, sample_weight, multioutput)\u001b[0m\n\u001b[0;32m    314\u001b[0m \u001b[1;33m\u001b[0m\u001b[0m\n\u001b[0;32m    315\u001b[0m     \u001b[1;32mif\u001b[0m \u001b[1;33m(\u001b[0m\u001b[0my_true\u001b[0m \u001b[1;33m<\u001b[0m \u001b[1;36m0\u001b[0m\u001b[1;33m)\u001b[0m\u001b[1;33m.\u001b[0m\u001b[0many\u001b[0m\u001b[1;33m(\u001b[0m\u001b[1;33m)\u001b[0m \u001b[1;32mor\u001b[0m \u001b[1;33m(\u001b[0m\u001b[0my_pred\u001b[0m \u001b[1;33m<\u001b[0m \u001b[1;36m0\u001b[0m\u001b[1;33m)\u001b[0m\u001b[1;33m.\u001b[0m\u001b[0many\u001b[0m\u001b[1;33m(\u001b[0m\u001b[1;33m)\u001b[0m\u001b[1;33m:\u001b[0m\u001b[1;33m\u001b[0m\u001b[1;33m\u001b[0m\u001b[0m\n\u001b[1;32m--> 316\u001b[1;33m         raise ValueError(\"Mean Squared Logarithmic Error cannot be used when \"\n\u001b[0m\u001b[0;32m    317\u001b[0m                          \"targets contain negative values.\")\n\u001b[0;32m    318\u001b[0m \u001b[1;33m\u001b[0m\u001b[0m\n",
      "\u001b[1;31mValueError\u001b[0m: Mean Squared Logarithmic Error cannot be used when targets contain negative values."
     ]
    }
   ],
   "source": [
    "err = mean_squared_log_error(Y_test,Y_pred1)"
   ]
  },
  {
   "cell_type": "markdown",
   "metadata": {},
   "source": [
    "using ref https://scikit-learn.org/stable/modules/generated/sklearn.kernel_approximation.Nystroem.html#sklearn.kernel_approximation.Nystroem\n",
    "\n",
    "and \n",
    "\n",
    "https://scikit-learn.org/stable/modules/generated/sklearn.preprocessing.StandardScaler.html"
   ]
  },
  {
   "cell_type": "code",
   "execution_count": 131,
   "metadata": {},
   "outputs": [],
   "source": [
    "# Standard scaling of all data"
   ]
  },
  {
   "cell_type": "code",
   "execution_count": 168,
   "metadata": {},
   "outputs": [],
   "source": [
    "from sklearn.preprocessing import StandardScaler"
   ]
  },
  {
   "cell_type": "code",
   "execution_count": 169,
   "metadata": {},
   "outputs": [],
   "source": [
    "scale = StandardScaler()\n",
    "scale1 = StandardScaler()"
   ]
  },
  {
   "cell_type": "code",
   "execution_count": 172,
   "metadata": {},
   "outputs": [
    {
     "name": "stdout",
     "output_type": "stream",
     "text": [
      "[[-1.67839885  1.01386805 -1.56852703 ... -0.03254579 -0.26906286\n",
      "  -0.84417311]\n",
      " [-1.67839885  1.01386805 -1.56852703 ... -0.03254579  0.63134766\n",
      "  -0.84417311]\n",
      " [-1.67839885  1.01386805 -1.56852703 ... -0.03254579  1.01723789\n",
      "  -0.84417311]\n",
      " ...\n",
      " [ 1.50060093 -0.39729017  0.15552386 ... -0.03254579  1.01723789\n",
      "   0.89673566]\n",
      " [ 1.50060093 -0.39729017  0.15552386 ... -0.03254579  1.01723789\n",
      "   0.02628127]\n",
      " [ 1.50060093 -0.39729017  0.15552386 ... -0.03254579  1.01723789\n",
      "   0.89673566]]\n"
     ]
    }
   ],
   "source": [
    "X1 = scale.fit_transform(X)\n",
    "print(X1)"
   ]
  },
  {
   "cell_type": "code",
   "execution_count": 190,
   "metadata": {},
   "outputs": [
    {
     "name": "stdout",
     "output_type": "stream",
     "text": [
      "(33750, 1)\n",
      "[[ 1.15738423]\n",
      " [ 0.64067732]\n",
      " [ 0.76671564]\n",
      " ...\n",
      " [-0.52530271]\n",
      " [-0.96016003]\n",
      " [-0.96016003]]\n",
      "[[ 1.15738423]\n",
      " [ 0.64067732]\n",
      " [ 0.76671564]\n",
      " ...\n",
      " [-0.52530271]\n",
      " [-0.96016003]\n",
      " [-0.96016003]]\n",
      "(33750, 1)\n"
     ]
    }
   ],
   "source": [
    "Y1 = scale1.fit_transform(Y.reshape(-1,1))\n",
    "\n",
    "print(Y1.shape)\n",
    "print(Y1)\n",
    "print(Y1.reshape(-1,1))\n",
    "#Y1 = Y1.reshape(1,-1)\n",
    "#np.unique(Y1)\n",
    "print(Y1.shape)"
   ]
  },
  {
   "cell_type": "code",
   "execution_count": 194,
   "metadata": {},
   "outputs": [
    {
     "data": {
      "text/plain": [
       "(33750,)"
      ]
     },
     "execution_count": 194,
     "metadata": {},
     "output_type": "execute_result"
    }
   ],
   "source": [
    "Y1 = Y1. flatten()\n",
    "Y1.shape"
   ]
  },
  {
   "cell_type": "code",
   "execution_count": 195,
   "metadata": {},
   "outputs": [
    {
     "name": "stdout",
     "output_type": "stream",
     "text": [
      "(27000, 14)\n",
      "(6750, 14)\n",
      "(27000,)\n",
      "(6750,)\n"
     ]
    }
   ],
   "source": [
    "X_train, X_test, Y_train, Y_test = train_test_split(X1,Y1,test_size=0.20)\n",
    "print(X_train.shape)\n",
    "print(X_test.shape)\n",
    "print(Y_train.shape)\n",
    "print(Y_test.shape)"
   ]
  },
  {
   "cell_type": "code",
   "execution_count": 178,
   "metadata": {},
   "outputs": [],
   "source": [
    "# now again applying algos"
   ]
  },
  {
   "cell_type": "markdown",
   "metadata": {},
   "source": [
    "# TRY 3 RANDOM FOREST DATA CLEANING"
   ]
  },
  {
   "cell_type": "markdown",
   "metadata": {},
   "source": [
    "Removing repeated dates"
   ]
  },
  {
   "cell_type": "markdown",
   "metadata": {},
   "source": [
    "# Removing outliers"
   ]
  },
  {
   "cell_type": "code",
   "execution_count": 206,
   "metadata": {},
   "outputs": [
    {
     "name": "stdout",
     "output_type": "stream",
     "text": [
      "[[  0. 121.  89. ...  10.   2.   9.]\n",
      " [  0. 178.  67. ...  10.   2.  10.]\n",
      " [  0. 113.  66. ...  10.   2.  11.]\n",
      " ...\n",
      " [  0. 138.  70. ...   5.  17.  22.]\n",
      " [  0. 229.  66. ...   5.  17.  23.]\n",
      " [  0. 140.  63. ...   5.  17.  23.]]\n"
     ]
    }
   ],
   "source": [
    "print(data)"
   ]
  },
  {
   "cell_type": "code",
   "execution_count": 207,
   "metadata": {},
   "outputs": [
    {
     "name": "stdout",
     "output_type": "stream",
     "text": [
      "[[2.012e+03 1.000e+01 2.000e+00 9.000e+00]\n",
      " [2.012e+03 1.000e+01 2.000e+00 1.000e+01]\n",
      " [2.012e+03 1.000e+01 2.000e+00 1.100e+01]\n",
      " ...\n",
      " [2.017e+03 5.000e+00 1.700e+01 2.200e+01]\n",
      " [2.017e+03 5.000e+00 1.700e+01 2.300e+01]\n",
      " [2.017e+03 5.000e+00 1.700e+01 2.300e+01]]\n"
     ]
    }
   ],
   "source": [
    "print(data[:,11:]) #date time"
   ]
  },
  {
   "cell_type": "code",
   "execution_count": 249,
   "metadata": {},
   "outputs": [],
   "source": [
    "# creating an outlier matrix for co-relational analysis\n",
    "outlier_repeated_date = np.zeros((4,16),dtype='float64')\n",
    "m = 0 #m always even\n",
    "#m+1 always odd"
   ]
  },
  {
   "cell_type": "code",
   "execution_count": 242,
   "metadata": {},
   "outputs": [
    {
     "data": {
      "text/plain": [
       "array([2012., 2012., 2012., ..., 2017., 2017., 2017.])"
      ]
     },
     "execution_count": 242,
     "metadata": {},
     "output_type": "execute_result"
    }
   ],
   "source": [
    "data[:,11] #year"
   ]
  },
  {
   "cell_type": "code",
   "execution_count": 243,
   "metadata": {},
   "outputs": [
    {
     "data": {
      "text/plain": [
       "array([10., 10., 10., ...,  5.,  5.,  5.])"
      ]
     },
     "execution_count": 243,
     "metadata": {},
     "output_type": "execute_result"
    }
   ],
   "source": [
    "data[:,12] # month"
   ]
  },
  {
   "cell_type": "code",
   "execution_count": 244,
   "metadata": {},
   "outputs": [
    {
     "data": {
      "text/plain": [
       "array([ 2.,  2.,  2., ..., 17., 17., 17.])"
      ]
     },
     "execution_count": 244,
     "metadata": {},
     "output_type": "execute_result"
    }
   ],
   "source": [
    "data[:,13] #day"
   ]
  },
  {
   "cell_type": "code",
   "execution_count": 245,
   "metadata": {},
   "outputs": [
    {
     "data": {
      "text/plain": [
       "array([ 9., 10., 11., ..., 22., 23., 23.])"
      ]
     },
     "execution_count": 245,
     "metadata": {},
     "output_type": "execute_result"
    }
   ],
   "source": [
    "data[:,14] #time hr"
   ]
  },
  {
   "cell_type": "code",
   "execution_count": 273,
   "metadata": {},
   "outputs": [],
   "source": [
    "indices = []"
   ]
  },
  {
   "cell_type": "code",
   "execution_count": 274,
   "metadata": {},
   "outputs": [],
   "source": [
    "for i in range(0,33749): #row wise iteration\n",
    "    if data[i,11] == data[i+1,11]: #if year of 2 dates is same\n",
    "        if data[i,12] == data[i+1,12]: #if year, month of 2 date is same\n",
    "            if data[i,13] == data[i+1,13]: # if year, month, day of 2 date is same\n",
    "                if data[i,14] == data[i+1,14]: #if date and time are same i.e. an outlier faced\n",
    "                    outlier_repeated_date[m,1:] = data[i,:]\n",
    "                    outlier_repeated_date[m+1,1:] = data[i+1,:]\n",
    "                    #indicies list\n",
    "                    indices.append(i)\n",
    "                    m =+2"
   ]
  },
  {
   "cell_type": "code",
   "execution_count": 275,
   "metadata": {},
   "outputs": [
    {
     "name": "stdout",
     "output_type": "stream",
     "text": [
      "[178, 180, 182, 269, 270, 272, 274, 276, 277, 279, 280, 282, 283, 285, 288, 295, 297, 301, 303, 305, 358, 400, 403, 404, 405, 407, 409, 410, 412, 414, 415, 417, 424, 432, 434, 435, 437, 439, 442, 444, 445, 447, 448, 450, 451, 453, 454, 456, 457, 459, 460, 461, 463, 464, 465, 467, 468, 470, 471, 472, 486, 537, 541, 543, 545, 546, 548, 549, 550, 552, 554, 555, 556, 558, 559, 562, 564, 565, 567, 568, 570, 572, 573, 576, 578, 581, 590, 594, 601, 602, 603, 605, 606, 607, 608, 610, 611, 613, 614, 616, 617, 618, 620, 621, 623, 624, 626, 627, 631, 632, 634, 636, 637, 639, 640, 641, 643, 644, 645, 646, 648, 649, 650, 652, 653, 655, 657, 658, 660, 661, 663, 664, 665, 667, 668, 669, 671, 674, 878, 885, 941, 943, 945, 947, 948, 950, 951, 953, 955, 956, 958, 960, 961, 962, 964, 965, 967, 969, 971, 972, 974, 976, 984, 986, 987, 988, 990, 1071, 1072, 1073, 1075, 1076, 1078, 1079, 1080, 1082, 1083, 1084, 1085, 1087, 1088, 1090, 1091, 1092, 1094, 1095, 1097, 1099, 1100, 1101, 1102, 1104, 1107, 1109, 1111, 1113, 1117, 1134, 1156, 1345, 1347, 1349, 1350, 1352, 1353, 1355, 1410, 1412, 1414, 1416, 1417, 1418, 1420, 1421, 1425, 1428, 1431, 1598, 1600, 1602, 1604, 1606, 1608, 1610, 1612, 1614, 1617, 1619, 1621, 1638, 1640, 1642, 1644, 1646, 1648, 1654, 1656, 1658, 1660, 1662, 1664, 1669, 1671, 1673, 1675, 1677, 1679, 1699, 1701, 1703, 1704, 1771, 1804, 1806, 1808, 1839, 1840, 1842, 1843, 1845, 1846, 1848, 1849, 1851, 1853, 1855, 1857, 1858, 1859, 1861, 1862, 1863, 1865, 1866, 1867, 1869, 1870, 1872, 1873, 1875, 1876, 1878, 1879, 1881, 1882, 1884, 1885, 1887, 1888, 1889, 1891, 1893, 1894, 1896, 1897, 1899, 1901, 1903, 1905, 1910, 1931, 1935, 1937, 1941, 1943, 1956, 1960, 2004, 2006, 2021, 2024, 2039, 2040, 2041, 2043, 2044, 2045, 2047, 2048, 2050, 2051, 2053, 2054, 2055, 2057, 2058, 2059, 2061, 2062, 2063, 2064, 2066, 2067, 2068, 2070, 2071, 2073, 2074, 2076, 2077, 2079, 2080, 2081, 2083, 2084, 2086, 2087, 2088, 2090, 2091, 2092, 2094, 2095, 2096, 2098, 2099, 2100, 2101, 2103, 2104, 2106, 2107, 2108, 2109, 2111, 2112, 2114, 2115, 2117, 2118, 2120, 2153, 2156, 2159, 2161, 2163, 2165, 2167, 2169, 2171, 2174, 2176, 2178, 2180, 2182, 2184, 2186, 2188, 2194, 2195, 2197, 2201, 2203, 2205, 2207, 2209, 2211, 2213, 2215, 2217, 2218, 2220, 2222, 2232, 2234, 2237, 2247, 2249, 2253, 2255, 2257, 2259, 2260, 2262, 2263, 2265, 2267, 2269, 2270, 2272, 2274, 2275, 2367, 2447, 2449, 2451, 2453, 2455, 2457, 2459, 2461, 2463, 2465, 2467, 2469, 2471, 2473, 2475, 2478, 2480, 2482, 2484, 2486, 2490, 2492, 2494, 2498, 2500, 2502, 2513, 2516, 2518, 2520, 2522, 2539, 2542, 2598, 2600, 2602, 2616, 2617, 2619, 2621, 2623, 2625, 2626, 2628, 2629, 2631, 2633, 2636, 2638, 2640, 2641, 2643, 2644, 2646, 2647, 2649, 2650, 2652, 2655, 2657, 2661, 2665, 2667, 2669, 2712, 2714, 2725, 2727, 2779, 2819, 2820, 2821, 2823, 2825, 2826, 2828, 2830, 2831, 2833, 2835, 2836, 2838, 2839, 2841, 2846, 2848, 2849, 2851, 2856, 2857, 2859, 2860, 2862, 2864, 2866, 2867, 2869, 2871, 2872, 2874, 2875, 2877, 2879, 2880, 2882, 2883, 2885, 2886, 2890, 2898, 2920, 2922, 2924, 2926, 2929, 2931, 2991, 2999, 3021, 3036, 3090, 3099, 3101, 3140, 3142, 3144, 3146, 3147, 3211, 3212, 3214, 3216, 3217, 3223, 3387, 3419, 3421, 3423, 3425, 3427, 3433, 3435, 3437, 3474, 3480, 3482, 3484, 3490, 3492, 3494, 3495, 3497, 3498, 3500, 3501, 3503, 3504, 3506, 3507, 3508, 3509, 3511, 3512, 3513, 3515, 3516, 3517, 3519, 3520, 3522, 3524, 3525, 3527, 3528, 3530, 3532, 3533, 3535, 3537, 3539, 3541, 3543, 3545, 3547, 3549, 3553, 3604, 3607, 3608, 3610, 3611, 3613, 3615, 3616, 3617, 3619, 3620, 3621, 3623, 3625, 3627, 3629, 3675, 3677, 3678, 3680, 3681, 3683, 3729, 3731, 3739, 3804, 3806, 3807, 3809, 3810, 3811, 3813, 3814, 3816, 3818, 3820, 3821, 3822, 3824, 3826, 3846, 3848, 3850, 3852, 3856, 3871, 3874, 3877, 3878, 3879, 3881, 3882, 3885, 3887, 3899, 3908, 3910, 3922, 3924, 3926, 3930, 3932, 3934, 3936, 3938, 3940, 3942, 3944, 3945, 3947, 3949, 4075, 4076, 4077, 4079, 4081, 4088, 4090, 4092, 4094, 4095, 4098, 4099, 4101, 4102, 4104, 4105, 4106, 4108, 4109, 4111, 4138, 4140, 4143, 4145, 4146, 4148, 4149, 4169, 4171, 4174, 4184, 4187, 4188, 4190, 4191, 4192, 4194, 4195, 4196, 4198, 4199, 4201, 4204, 4205, 4207, 4208, 4210, 4211, 4212, 4214, 4215, 4217, 4218, 4219, 4221, 4222, 4223, 4225, 4226, 4228, 4229, 4231, 4232, 4233, 4235, 4236, 4237, 4300, 4301, 4316, 4318, 4319, 4321, 4322, 4323, 4325, 4326, 4328, 4330, 4335, 4336, 4338, 4340, 4373, 4374, 4375, 4377, 4378, 4379, 4381, 4382, 4384, 4385, 4387, 4522, 4524, 4661, 4663, 4666, 4668, 4669, 4671, 4672, 4673, 4675, 4676, 4679, 4681, 4684, 4701, 4707, 4827, 4828, 4830, 4831, 4832, 4834, 4835, 4837, 4839, 4853, 4860, 4862, 4863, 4865, 4866, 4868, 4870, 4897, 4899, 4900, 4902, 4903, 4905, 4907, 4908, 4909, 4911, 4912, 4914, 4915, 4916, 4918, 4919, 4921, 4922, 4924, 4926, 4928, 4929, 4931, 4937, 4939, 4959, 4962, 4963, 4964, 4966, 4977, 4978, 4980, 4982, 4983, 4984, 4985, 4987, 5004, 5010, 5012, 5018, 5020, 5021, 5023, 5024, 5025, 5027, 5029, 5030, 5031, 5033, 5034, 5036, 5038, 5039, 5041, 5042, 5046, 5047, 5048, 5050, 5052, 5054, 5056, 5058, 5060, 5062, 5064, 5065, 5067, 5069, 5071, 5072, 5074, 5075, 5077, 5079, 5081, 5083, 5085, 5088, 5097, 5099, 5106, 5108, 5110, 5112, 5114, 5116, 5147, 5148, 5150, 5151, 5153, 5154, 5156, 5157, 5159, 5161, 5163, 5164, 5169, 5236, 5237, 5239, 5240, 5242, 5243, 5245, 5246, 5247, 5249, 5250, 5251, 5252, 5253, 5255, 5256, 5257, 5258, 5260, 5262, 5263, 5264, 5266, 5267, 5269, 5270, 5274, 5275, 5279, 5282, 5284, 5285, 5286, 5288, 5289, 5290, 5292, 5293, 5294, 5296, 5298, 5299, 5300, 5302, 5303, 5305, 5307, 5308, 5309, 5311, 5312, 5314, 5315, 5317, 5318, 5320, 5321, 5323, 5325, 5327, 5329, 5331, 5333, 5335, 5338, 5339, 5341, 5382, 5384, 5386, 5388, 5400, 5402, 5403, 5405, 5406, 5407, 5408, 5410, 5430, 5431, 5432, 5434, 5436, 5437, 5438, 5440, 5441, 5442, 5444, 5445, 5446, 5448, 5449, 5451, 5453, 5454, 5455, 5457, 5458, 5459, 5461, 5463, 5465, 5467, 5469, 5505, 5508, 5515, 5542, 5663, 5667, 5668, 5670, 5671, 5672, 5674, 5675, 5677, 5678, 5680, 5682, 5684, 5685, 5687, 5689, 5691, 5703, 5733, 5734, 5735, 5737, 5739, 5741, 5743, 5745, 5747, 5748, 5750, 5752, 5753, 5755, 5756, 5758, 5759, 5760, 5762, 5763, 5765, 5766, 5768, 5769, 5771, 5781, 5887, 5889, 5891, 5893, 5895, 5897, 5898, 5900, 5901, 5903, 5905, 5919, 5955, 6106, 6107, 6115, 6116, 6118, 6119, 6121, 6122, 6124, 6125, 6134, 6136, 6140, 6141, 6143, 6144, 6145, 6146, 6148, 6149, 6150, 6152, 6153, 6154, 6155, 6157, 6158, 6159, 6160, 6162, 6163, 6164, 6165, 6166, 6168, 6169, 6171, 6172, 6192, 6193, 6194, 6196, 6197, 6198, 6200, 6201, 6203, 6204, 6211, 6212, 6213, 6214, 6216, 6217, 6218, 6219, 6221, 6223, 6229, 6232, 6234, 6237, 6238, 6240, 6241, 6243, 6244, 6246, 6259, 6262, 6263, 6264, 6265, 6267, 6281, 6283, 6285, 6286, 6287, 6289, 6290, 6292, 6294, 6295, 6297, 6299, 6300, 6301, 6303, 6304, 6305, 6307, 6308, 6309, 6311, 6312, 6316, 6318, 6320, 6324, 6326, 6331, 6333, 6335, 6337, 6339, 6340, 6342, 6344, 6346, 6348, 6399, 6400, 6402, 6404, 6406, 6462, 6472, 6477, 6478, 6489, 6491, 6493, 6497, 6498, 6500, 6517, 6527, 6529, 6530, 6537, 6538, 6540, 6541, 6542, 6543, 6545, 6547, 6548, 6549, 6550, 6552, 6568, 6569, 6578, 6579, 6580, 6581, 6619, 6621, 6693, 6696, 6700, 6702, 6704, 6706, 6708, 6710, 6713, 6715, 6716, 6718, 6720, 6721, 6723, 6725, 6726, 6728, 6729, 6731, 6733, 6735, 6737, 6739, 6741, 6743, 6745, 6747, 6749, 6751, 6759, 6763, 6765, 6767, 6769, 6771, 6831, 6842, 6843, 6845, 6847, 6849, 6850, 6854, 6856, 6857, 6859, 6861, 6871, 6873, 6876, 6878, 6880, 6882, 6886, 6888, 6905, 6907, 6909, 6913, 6929, 6931, 6932, 6934, 6936, 6938, 6940, 6944, 6945, 6947, 6948, 6950, 6951, 6953, 6954, 6962, 7029, 7031, 7033, 7034, 7036, 7045, 7064, 7126, 7127, 7129, 7130, 7131, 7133, 7134, 7136, 7145, 7147, 7149, 7150, 7153, 7154, 7169, 7171, 7173, 7174, 7198, 7207, 7255, 7309, 7317, 7318, 7320, 7322, 7323, 7325, 7530, 7538, 7542, 7544, 7568, 7570, 7571, 7660, 7662, 7664, 7665, 7667, 7668, 7670, 7671, 7673, 7683, 7819, 7850, 7852, 7853, 7854, 7856, 7857, 7940, 7964, 7998, 8055, 8057, 8059, 8062, 8064, 8065, 8067, 8069, 8070, 8072, 8074, 8076, 8091, 8094, 8097, 8099, 8101, 8102, 8104, 8107, 8217, 8218, 8220, 8221, 8223, 8226, 8228, 8259, 8260, 8262, 8263, 8717, 8719, 8720, 8725, 8726, 8765, 8840, 8842, 8843, 8845, 8847, 8849, 8851, 8852, 8863, 8935, 8936, 8938, 8939, 8941, 8942, 8944, 8945, 8947, 8948, 8950, 8952, 8954, 8956, 8957, 8998, 9001, 9003, 9004, 9006, 9008, 9009, 9012, 9013, 9015, 9017, 9019, 9020, 9024, 9033, 9036, 9038, 9107, 9110, 9173, 9175, 9221, 9222, 9226, 9230, 9232, 9233, 9235, 9236, 9238, 9247, 9249, 9266, 9268, 9270, 9271, 9273, 9274, 9280, 9281, 9283, 9285, 9286, 9289, 9303, 9307, 9308, 9310, 9313, 9316, 9319, 9321, 9322, 9324, 9325, 9327, 9328, 9330, 9332, 9430, 9440, 9443, 9466, 9468, 9470, 9471, 9473, 9474, 9476, 9477, 9479, 9481, 9482, 9484, 9485, 9487, 9489, 9490, 9492, 9493, 9495, 9496, 9498, 9522, 9524, 9526, 9529, 9531, 9534, 9537, 9538, 9540, 9542, 9544, 9562, 9569, 9574, 9585, 9587, 9589, 9593, 9594, 9596, 9661, 9684, 9869, 9871, 9897, 9898, 9900, 9902, 9903, 9905, 9907, 9908, 9911, 9913, 9915, 9916, 9918, 9920, 9927, 9930, 10012, 10015, 10031, 10033, 10279, 10284, 10287, 10289, 10293, 10295, 10296, 10298, 10299, 10300, 10302, 10303, 10304, 10306, 10307, 10308, 10310, 10312, 10313, 10314, 10316, 10317, 10319, 10320, 10322, 10324, 10326, 10328, 10330, 10332, 10334, 10336, 10338, 10339, 10340, 10342, 10344, 10346, 10348, 10349, 10351, 10352, 10354, 10355, 10356, 10357, 10359, 10360, 10361, 10362, 10364, 10365, 10367, 10368, 10372, 10373, 10375, 10377, 10380, 10384, 10386, 10388, 10390, 10392, 10394, 10395, 10397, 10398, 10400, 10401, 10402, 10404, 10405, 10407, 10409, 10411, 10413, 10415, 10416, 10418, 10419, 10421, 10458, 10501, 10503, 10505, 10506, 10508, 10509, 10511, 10512, 10515, 10521, 10524, 10525, 10527, 10529, 10530, 10532, 10534, 10536, 10538, 10540, 10542, 10561, 10563, 10565, 10567, 10569, 10570, 10655, 10657, 10659, 10661, 10665, 10667, 10670, 10721, 10722, 10723, 10724, 10726, 10728, 10750, 10804, 10806, 10808, 10809, 10811, 10812, 10814, 10878, 10880, 10882, 10884, 10886, 10893, 10913, 10925, 10926, 10928, 10929, 10931, 10932, 10934, 10935, 10937, 10945, 10947, 10949, 10951, 10953, 10954, 10956, 10959, 10961, 10962, 10984, 10986, 10996, 10998, 10999, 11001, 11003, 11022, 11024, 11026, 11028, 11030, 11032, 11034, 11037, 11047, 11049, 11051, 11055, 11057, 11090, 11092, 11098, 11100, 11187, 11189, 11191, 11192, 11194, 11195, 11197, 11198, 11202, 11206, 11207, 11337, 11345, 11351, 11365, 11367, 11369, 11387, 11438, 11439, 11442, 11445, 11447, 11449, 11450, 11452, 11454, 11456, 11459, 11461, 11462, 11464, 11465, 11467, 11468, 11481, 11496, 11498, 11500, 11501, 11502, 11506, 11512, 11513, 11515, 11519, 11521, 11523, 11525, 11532, 11543, 11546, 11552, 11556, 11603, 11620, 11626, 11649, 11656, 11659, 11661, 11663, 11671, 11674, 11725, 11727, 11728, 11730, 11731, 11733, 11760, 11762, 11763, 11765, 11766, 11768, 11769, 11771, 11772, 11774, 11775, 11777, 11779, 11782, 12496, 12498, 12500, 13824, 13826, 14063, 14100, 14102, 14105, 14107, 14109, 14112, 14113, 14114, 14116, 14117, 14119, 14121, 14123, 14124, 14126, 14127, 14128, 14130, 14133, 14134, 14136, 14137, 14139, 14141, 14142, 14144, 14145, 14147, 14148, 14150, 14152, 14154, 14157, 14159, 14162, 14187, 14203, 14205, 14207, 14209, 14213, 14216, 14218, 14219, 14221, 14223, 14239, 14241, 14243, 14245, 14247, 14248, 14250, 14253, 14257, 14259, 14262, 14264, 14265, 14267, 14268, 14270, 14275, 14277, 14278, 14280, 14281, 14287, 14440, 14443, 14444, 14446, 14447, 14449, 14450, 14452, 14453, 14455, 14456, 14458, 14459, 14461, 14462, 14465, 14467, 14468, 14470, 14471, 14473, 14474, 14476, 14477, 14479, 14481, 14483, 14485, 14487, 14488, 14490, 14492, 14493, 14495, 14496, 14498, 14499, 14501, 14502, 14504, 14506, 14508, 14509, 14511, 14514, 14526, 14783, 14795, 14796, 14797, 14798, 14800, 14801, 14802, 14804, 14805, 14820, 14822, 14825, 14827, 14828, 14830, 14831, 14833, 14834, 14836, 14838, 14840, 14842, 14844, 14924, 14930, 14932, 14934, 14936, 14937, 14940, 14953, 14962, 14964, 14966, 14967, 14969, 14971, 14972, 14974, 14975, 14977, 14979, 14980, 14982, 14983, 14985, 14996, 14998, 15001, 15003, 15006, 15008, 15010, 15012, 15036, 15038, 15075, 15092, 15094, 15095, 15096, 15099, 15100, 15102, 15104, 15120, 15121, 15124, 15138, 15140, 15165, 15166, 15167, 15186, 15189, 15192, 15194, 15264, 15266, 15268, 15270, 15271, 15272, 15274, 15276, 15310, 15311, 15317, 15394, 15395, 15397, 15399, 15401, 15402, 15404, 15405, 15406, 15408, 15409, 15412, 15426, 15430, 15432, 15436, 15438, 15440, 15442, 15443, 15445, 15448, 15449, 15450, 15452, 15504, 15732, 15734, 15735, 15737, 15738, 15740, 15856, 15858, 15860, 15861, 15863, 15884, 15903, 15905, 15929, 15931, 15933, 15935, 15937, 16024, 16026, 16028, 16037, 16042, 16058, 16060, 16062, 16064, 16066, 16068, 16070, 16081, 16083, 16084, 16095, 16097, 16099, 16101, 16103, 16105, 16106, 16108, 16109, 16118, 16121, 16122, 16124, 16126, 16127, 16130, 16132, 16136, 16138, 16141, 16142, 16144, 16229, 16231, 16232, 16234, 16235, 16237, 16238, 16240, 16241, 16243, 16245, 16247, 16249, 16263, 16265, 16267, 16271, 16294, 16295, 16297, 16298, 16300, 16301, 16303, 16304, 16306, 16307, 16309, 16311, 16312, 16314, 16315, 16317, 16318, 16320, 16322, 16323, 16325, 16326, 16328, 16329, 16330, 16331, 16333, 16334, 16335, 16336, 16338, 16339, 16340, 16342, 16343, 16344, 16346, 16348, 16350, 16352, 16472, 16474, 16501, 16502, 16504, 16505, 16507, 16508, 16510, 16562, 16594, 16595, 16597, 16598, 16600, 16601, 16603, 16604, 16606, 16607, 16609, 16610, 16612, 16613, 16615, 16616, 16618, 16619, 16621, 16623, 16625, 16630, 16633, 16637, 16655, 16656, 16658, 16659, 16661, 16664, 16666, 16808, 16810, 16812, 16814, 16815, 16817, 16818, 16819, 16821, 16822, 16844, 16846, 16871, 16873, 16921, 16923, 16924, 16926, 16927, 17116, 17146, 17149, 17152, 17157, 17158, 17160, 17161, 17163, 17165, 17168, 17169, 17171, 17173, 17176, 17179, 17200, 17209, 17226, 17228, 17231, 17239, 17241, 17242, 17244, 17245, 17256, 17258, 17261, 17331, 17333, 17335, 17378, 17381, 17388, 17412, 17424, 17426, 17428, 17429, 17431, 17432, 17434, 17435, 17437, 17438, 17440, 17445, 17464, 17467, 17479, 17481, 17482, 17484, 17485, 17487, 17489, 17491, 17492, 17494, 17496, 17497, 17499, 17500, 17502, 17503, 17505, 17506, 17508, 17509, 17511, 17512, 17515, 17516, 17518, 17519, 17522, 17523, 17525, 17526, 17528, 17529, 17531, 17532, 17533, 17535, 17536, 17537, 17539, 17540, 17541, 17543, 17544, 17546, 17547, 17549, 17550, 17552, 17553, 17558, 17560, 17562, 17633, 17635, 17636, 17638, 17640, 17641, 17643, 17644, 17645, 17647, 17648, 17657, 17659, 17661, 17730, 17782, 17802, 17803, 17805, 17809, 17811, 17821, 17824, 17826, 17828, 17849, 17855, 17872, 17875, 17877, 17886, 17888, 17889, 17891, 17893, 17894, 17896, 17897, 17898, 17900, 17902, 17904, 17906, 17921, 17923, 17924, 17926, 17928, 17930, 17932, 17934, 17936, 17982, 17984, 17986, 17988, 18008, 18009, 18011, 18013, 18014, 18016, 18017, 18019, 18021, 18022, 18029, 18036, 18037, 18069, 18070, 18072, 18073, 18075, 18106, 18108, 18117, 18119, 18120, 18122, 18123, 18125, 18126, 18128, 18130, 18132, 18134, 18135, 18137, 18139, 18140, 18142, 18143, 18145, 18147, 18189, 18193, 18195, 18196, 18198, 18200, 18202, 18290, 18293, 18295, 18306, 18308, 18310, 18312, 18314, 18316, 18318, 18320, 18322, 18324, 18327, 18329, 18330, 18332, 18333, 18335, 18337, 18339, 18341, 18342, 18344, 18345, 18347, 18348, 18350, 18351, 18353, 18354, 18356, 18358, 18359, 18374, 18381, 18383, 18385, 18390, 18391, 18393, 18394, 18396, 18398, 18421, 18443, 18445, 18477, 18479, 18498, 18500, 18502, 18508, 18511, 18513, 18515, 18516, 18518, 18519, 18521, 18523, 18524, 18526, 18527, 18529, 18530, 18532, 18533, 18535, 18536, 18538, 18539, 18541, 18542, 18544, 18545, 18547, 18548, 18550, 18551, 18553, 18554, 18556, 18557, 18559, 18561, 18563, 18565, 18567, 18568, 18570, 18574, 18581, 18587, 18597, 18599, 18602, 18604, 18642, 18645, 18647, 18696, 18831, 18833, 18848, 18850, 18852, 18856, 18857, 18859, 18860, 18862, 18863, 18872, 18874, 18876, 18877, 18879, 18880, 18882, 18956, 18958, 18960, 18962, 18965, 18966, 18974, 19144, 19148, 19153, 19155, 19157, 19165, 19167, 19168, 19170, 19171, 19173, 19174, 19176, 19177, 19179, 19180, 19182, 19183, 19185, 19186, 19188, 19189, 19191, 19192, 19194, 19195, 19197, 19198, 19199, 19201, 19202, 19203, 19205, 19206, 19208, 19209, 19211, 19212, 19214, 19215, 19217, 19219, 19221, 19223, 19225, 19226, 19228, 19248, 19250, 19252, 19254, 19255, 19257, 19258, 19260, 19261, 19263, 19265, 19266, 19303, 19305, 19321, 19323, 19333, 19417, 19419, 19421, 19422, 19423, 19425, 19426, 19428, 19429, 19431, 19432, 19434, 19435, 19437, 19438, 19440, 19441, 19443, 19444, 19485, 19502, 19504, 19506, 19508, 19510, 19512, 19515, 19516, 19518, 19520, 19521, 19523, 19524, 19526, 19527, 19528, 19530, 19532, 19533, 19536, 19538, 19539, 19541, 19542, 19544, 19545, 19547, 19549, 19550, 19552, 19553, 19555, 19556, 19558, 19559, 19561, 19566, 19568, 19569, 19570, 19572, 19573, 19577, 19578, 19580, 19581, 19648, 19675, 19680, 19681, 19683, 19685, 19687, 19689, 19691, 19740, 19741, 19743, 19745, 19748, 19750, 19751, 19753, 19754, 19756, 19758, 19759, 19761, 19762, 19764, 19766, 19767, 19769, 19770, 19772, 19773, 19775, 19779, 19784, 19786, 19788, 19790, 19792, 19794, 19844, 19846, 19848, 19852, 19853, 19855, 19857, 19859, 19861, 19863, 19865, 19884, 19886, 19888, 19889, 19891, 19893, 19895, 19897, 19899, 19901, 19903, 19918, 19920, 19921, 19923, 19951, 19955, 19956, 19958, 19962, 19963, 19965, 19967, 19968, 19970, 19971, 19973, 19974, 19985, 19987, 19988, 19990, 19991, 19993, 19994, 19995, 19999, 20001, 20013, 20014, 20016, 20017, 20023, 20024, 20026, 20027, 20028, 20030, 20031, 20033, 20034, 20036, 20038, 20039, 20040, 20042, 20043, 20045, 20046, 20048, 20049, 20050, 20052, 20053, 20055, 20116, 20120, 20132, 20134, 20137, 20150, 20151, 20153, 20155, 20156, 20158, 20159, 20160, 20162, 20163, 20165, 20167, 20203, 20205, 20207, 20208, 20210, 20212, 20214, 20216, 20218, 20266, 20268, 20270, 20272, 20274, 20276, 20278, 20280, 20282, 20284, 20286, 20288, 20291, 20293, 20299, 20301, 20325, 20327, 20328, 20329, 20331, 20332, 20334, 20336, 20338, 20344, 20399, 20401, 20403, 20404, 20406, 20445, 20447, 20449, 20451, 20452, 20454, 20456, 20458, 20460, 20462, 20464, 20466, 20468, 20469, 20471, 20473, 20475, 20477, 20479, 20481, 20484, 20486, 20487, 20488, 20490, 20491, 20493, 20495, 20497, 20499, 20501, 20503, 20505, 20507, 20509, 20511, 20513, 20515, 20516, 20526, 20527, 20529, 20551, 20553, 20554, 20557, 20559, 20561, 20562, 20566, 20571, 20573, 20594, 20601, 20603, 20605, 20607, 20610, 20612, 20614, 20616, 20618, 20620, 20622, 20624, 20626, 20627, 20630, 20631, 20633, 20635, 20653, 20655, 20708, 20710, 20713, 20715, 20717, 20718, 20720, 20721, 20723, 20725, 20727, 20729, 20732, 20734, 20736, 20738, 20740, 20742, 20744, 20745, 20747, 20748, 20750, 20751, 20753, 20754, 20756, 20757, 20759, 20760, 20768, 20771, 20784, 20791, 20801, 20803, 20805, 20807, 20809, 20810, 20812, 20814, 20818, 20823, 20824, 20826, 20828, 20830, 20832, 20834, 20835, 20837, 20838, 20840, 20842, 20844, 20852, 20880, 20913, 20915, 20926, 20935, 20937, 20950, 20952, 20954, 20955, 20957, 20959, 20962, 20964, 20966, 20968, 20970, 20973, 20985, 20987, 20989, 20991, 20993, 20995, 20996, 20998, 21000, 21002, 21004, 21006, 21008, 21010, 21013, 21015, 21018, 21032, 21036, 21038, 21041, 21043, 21053, 21054, 21057, 21059, 21061, 21071, 21073, 21079, 21081, 21083, 21085, 21093, 21104, 21106, 21107, 21113, 21129, 21131, 21133, 21135, 21137, 21146, 21148, 21151, 21154, 21156, 21159, 21164, 21166, 21230, 21285, 21287, 21291, 21292, 21304, 21306, 21311, 21315, 21317, 21319, 21320, 21322, 21323, 21325, 21326, 21328, 21330, 21331, 21333, 21379, 21382, 21383, 21384, 21386, 21387, 21388, 21391, 21449, 21451, 21452, 21454, 21456, 21458, 21459, 21461, 21462, 21464, 21466, 21467, 21470, 21472, 21541, 21543, 21607, 21608, 21610, 21611, 21614, 21615, 21617, 21620, 21648, 21652, 21654, 21680, 21681, 21683, 21684, 21689, 21690, 21692, 21694, 21744, 21746, 21748, 21758, 21760, 21761, 21763, 21764, 21766, 21767, 21768, 21770, 21771, 21772, 21774, 21775, 21776, 21778, 21779, 21780, 21782, 21784, 21787, 21789, 21791, 21793, 21800, 21802, 21803, 21805, 21806, 21808, 21810, 21811, 21813, 21815, 21817, 21819, 21821, 21822, 21824, 21826, 21828, 21831, 21833, 21837, 21839, 21853, 21855, 21857, 21859, 21862, 21870, 21875, 21884, 21897, 21899, 21901, 21904, 21906, 21908, 21912, 21914, 21916, 21987, 21989, 21991, 21992, 21994, 21996, 22031, 22034, 22036, 22038, 22040, 22042, 22044, 22049, 22051, 22052, 22054, 22055, 22057, 22058, 22060, 22061, 22063, 22064, 22066, 22067, 22069, 22070, 22072, 22074, 22075, 22077, 22078, 22091, 22093, 22095, 22125, 22127, 22129, 22131, 22133, 22134, 22136, 22137, 22139, 22140, 22142, 22143, 22145, 22156, 22158, 22161, 22169, 22174, 22176, 22177, 22179, 22191, 22246, 22249, 22251, 22252, 22254, 22263, 22265, 22280, 22285, 22295, 22297, 22299, 22300, 22301, 22304, 22306, 22311, 22313, 22314, 22316, 22318, 22320, 22331, 22335, 22337, 22338, 22422, 22424, 22547, 22549, 22551, 22553, 22555, 22557, 22559, 22561, 22562, 22564, 22567, 22570, 22575, 22588, 22591, 22593, 22595, 22597, 22599, 22601, 22603, 22611, 22613, 22615, 22617, 22618, 22620, 22621, 22623, 22624, 22626, 22628, 22630, 22632, 22633, 22635, 22636, 22638, 22640, 22642, 22643, 22645, 22647, 22648, 22650, 22707, 22709, 22711, 22714, 22715, 22717, 22719, 22721, 22722, 22724, 22725, 22727, 22728, 22730, 22731, 22732, 22734, 22735, 22737, 22739, 22740, 22742, 22743, 22745, 22747, 22748, 22749, 22751, 22752, 22754, 22755, 22756, 22758, 22760, 22761, 22763, 22764, 22766, 22767, 22769, 22771, 22772, 22774, 22775, 22777, 22778, 22780, 22781, 22783, 22785, 22786, 22788, 22789, 22791, 22792, 22793, 22795, 22796, 22798, 22800, 22801, 22803, 22804, 22813, 22820, 22824, 22843, 22846, 22847, 22849, 22855, 22857, 22858, 22860, 22862, 22864, 22866, 22868, 22872, 22874, 22876, 22877, 22879, 22881, 22882, 22884, 22885, 22887, 22888, 22890, 22892, 22896, 22898, 22900, 22902, 22904, 23091, 23093, 23095, 23097, 23099, 23101, 23103, 23105, 23107, 23164, 23167, 23169, 23170, 23172, 23174, 23176, 23177, 23179, 23181, 23183, 23184, 23186, 23187, 23189, 23191, 23193, 23195, 23196, 23198, 23199, 23201, 23202, 23204, 23205, 23207, 23209, 23210, 23212, 23214, 23229, 23234, 23235, 23236, 23241, 23243, 23245, 23246, 23248, 23250, 23251, 23253, 23254, 23256, 23257, 23259, 23260, 23262, 23263, 23265, 23266, 23268, 23269, 23271, 23273, 23275, 23277, 23279, 23282, 23284, 23309, 23312, 23313, 23315, 23317, 23318, 23320, 23322, 23568, 23570, 23572, 23574, 23575, 23584, 23586, 23590, 23594, 23598, 23602, 23615, 23616, 23617, 23619, 23622, 23623, 23624, 23628, 23637, 23638, 23640, 23641, 23643, 23644, 23646, 23648, 23652, 23656, 23660, 23676, 23677, 23678, 23680, 23682, 23683, 23685, 23686, 23687, 23689, 23690, 23692, 23693, 23695, 23696, 23697, 23698, 23706, 23708, 23710, 23713, 23714, 23716, 23717, 23719, 23722, 23726, 23727, 23728, 23730, 23731, 23732, 23734, 23735, 23736, 23738, 23739, 23741, 23743, 23746, 23748, 23753, 23754, 23756, 23758, 23760, 23761, 23765, 23769, 23775, 23782, 23784, 23786, 23788, 23790, 23792, 23794, 23795, 23798, 23802, 23806, 23816, 23823, 23824, 23825, 23829, 23832, 23834, 23850, 23854, 23858, 23874, 23878, 23882, 23901, 23903, 23906, 23908, 23909, 23911, 23913, 23919, 23922, 23925, 23929, 23936, 23937, 23939, 23945, 23947, 23983, 24416, 24418, 24455, 24552, 24568, 24685, 24687, 24697, 24699, 24700, 24702, 24703, 24705, 24706, 24708, 24709, 24717, 24720, 24722, 24724, 24745, 24747, 24748, 24762, 24795, 24797, 24799, 24801, 24803, 24826, 24828, 24830, 24831, 24833, 24834, 24836, 24838, 24850, 24878, 24880, 24882, 24891, 24895, 24899, 24915, 24919, 24923, 25102, 25104, 25105, 25107, 25108, 25127, 25129, 25131, 25134, 25136, 25138, 25168, 25169, 25171, 25172, 25174, 25175, 25176, 25178, 25180, 25182, 25184, 25195, 25196, 25198, 25277, 25280, 25282, 25284, 25285, 25286, 25288, 25289, 25291, 25292, 25294, 25450, 25452, 25454, 25456, 25869, 25870, 25873, 25876, 25879, 25955, 25957, 25958, 25959, 25961, 25962, 25963, 25965, 25966, 25968, 25969, 25970, 25972, 25973, 25975, 25976, 25978, 25979, 25983, 25995, 26032, 26057, 26062, 26064, 26065, 26067, 26069, 26071, 26072, 26074, 26076, 26078, 26080, 26081, 26085, 26087, 26089, 26091, 26093, 26095, 26096, 26098, 26100, 26102, 26104, 26105, 26106, 26108, 26109, 26111, 26112, 26114, 26115, 26117, 26118, 26120, 26121, 26142, 26143, 26146, 26159, 26161, 26163, 26165, 26166, 26168, 26169, 26171, 26173, 26174, 26200, 26202, 26204, 26206, 26315, 26317, 26319, 26321, 26323, 26325, 26327, 26328, 26330, 26332, 26344, 26346, 26348, 26349, 26351, 26353, 26355, 26357, 26359, 26362, 26364, 26365, 26367, 26368, 26370, 26371, 26373, 26374, 26376, 26378, 26379, 26381, 26383, 26384, 26386, 26387, 26388, 26390, 26399, 26401, 26403, 26414, 26415, 26417, 26418, 26420, 26421, 26423, 26425, 26426, 26465, 26467, 26468, 26470, 26471, 26473, 26494, 26559, 26561, 26587, 26634, 26635, 26637, 26638, 26640, 26641, 26643, 26648, 26651, 26653, 26783, 26883, 26921, 26979, 27170, 27193, 27351, 27783, 27793, 27816, 27818, 27843, 27862, 27942, 28078, 28080, 28082, 28083, 28085, 28086, 28088, 28089, 28091, 28092, 28094, 28096, 28098, 28101, 28119, 28121, 28123, 28170, 28173, 28175, 28177, 28179, 28181, 28183, 28184, 28186, 28187, 28189, 28190, 28192, 28193, 28195, 28196, 28198, 28199, 28200, 28201, 28203, 28204, 28205, 28207, 28208, 28210, 28211, 28213, 28215, 28217, 28219, 28222, 28304, 28306, 28307, 28309, 28310, 28312, 28314, 28316, 28318, 28320, 28321, 28322, 28324, 28325, 28326, 28328, 28330, 28332, 28333, 28335, 28336, 28337, 28339, 28340, 28342, 28344, 28345, 28346, 28348, 28350, 28352, 28353, 28355, 28356, 28357, 28359, 28360, 28362, 28363, 28365, 28366, 28368, 28369, 28370, 28372, 28373, 28375, 28376, 28378, 28380, 28381, 28383, 28384, 28385, 28388, 28406, 28413, 28414, 28415, 28417, 28418, 28420, 28422, 28423, 28424, 28426, 28427, 28428, 28430, 28431, 28433, 28434, 28436, 28437, 28439, 28441, 28443, 28445, 28447, 28449, 28469, 28471, 28473, 28475, 28477, 28479, 28481, 28483, 28485, 28487, 28489, 28501, 28503, 28505, 28507, 28509, 28511, 28513, 28515, 28516, 28518, 28519, 28521, 28522, 28524, 28525, 28527, 28528, 28530, 28531, 28533, 28534, 28536, 28538, 28540, 28542, 28544, 28549, 28551, 28552, 28554, 28556, 28557, 28559, 28561, 28562, 28564, 28565, 28567, 28568, 28569, 28571, 28572, 28574, 28575, 28577, 28578, 28580, 28581, 28583, 28584, 28586, 28589, 28591, 28593, 28595, 28597, 28598, 28601, 28603, 28605, 28607, 28608, 28616, 28618, 28619, 28621, 28622, 28624, 28626, 28627, 28629, 28630, 28632, 28645, 28648, 28650, 28652, 28654, 28656, 28657, 28658, 28660, 28661, 28662, 28664, 28665, 28667, 28668, 28670, 28671, 28673, 28674, 28675, 28677, 28679, 28680, 28682, 28684, 28685, 28687, 28688, 28690, 28692, 28694, 28696, 28698, 28700, 28702, 28704, 28706, 28708, 28710, 28712, 28713, 28715, 28717, 28719, 28723, 28733, 28754, 28777, 28793, 28795, 28797, 28799, 28801, 28803, 28805, 28807, 28808, 28809, 28813, 28816, 28817, 28819, 28821, 28823, 28824, 28835, 28837, 28839, 28841, 28843, 28849, 28852, 28873, 28878, 28890, 28894, 28897, 28900, 28903, 28914, 28916, 28917, 28921, 28948, 28950, 28952, 28983, 28985, 28987, 28989, 28991, 28993, 28995, 28997, 28999, 29001, 29003, 29005, 29006, 29008, 29010, 29012, 29013, 29015, 29016, 29018, 29020, 29022, 29023, 29025, 29026, 29029, 29030, 29032, 29033, 29035, 29036, 29038, 29040, 29041, 29043, 29053, 29055, 29057, 29059, 29061, 29062, 29064, 29065, 29067, 29069, 29070, 29072, 29073, 29075, 29120, 29122, 29124, 29126, 29128, 29130, 29165, 29167, 29169, 29171, 29176, 29177, 29179, 29185, 29187, 29189, 29191, 29192, 29193, 29195, 29196, 29198, 29200, 29202, 29204, 29206, 29207, 29208, 29210, 29212, 29215, 29217, 29219, 29220, 29222, 29223, 29225, 29227, 29228, 29230, 29256, 29265, 29267, 29282, 29374, 29377, 29378, 29380, 29381, 29382, 29384, 29385, 29387, 29388, 29390, 29392, 29393, 29394, 29396, 29397, 29398, 29400, 29413, 29415, 29419, 29421, 29423, 29425, 29427, 29429, 29431, 29433, 29440, 29442, 29444, 29446, 29447, 29448, 29449, 29451, 29453, 29454, 29455, 29457, 29466, 29468, 29469, 29471, 29472, 29474, 29475, 29477, 29478, 29480, 29481, 29482, 29484, 29485, 29486, 29488, 29489, 29491, 29492, 29493, 29494, 29496, 29497, 29498, 29500, 29501, 29503, 29516, 29517, 29687, 29689, 29690, 29692, 29693, 29694, 29696, 29697, 29698, 29700, 29702, 29705, 29706, 29707, 29709, 29711, 29713, 29714, 29716, 29717, 29718, 29720, 29721, 29723, 29725, 29756, 29772, 29774, 29776, 29778, 29780, 29797, 29799, 29804, 29806, 29890, 29891, 29893, 29895, 29896, 29898, 29900, 29901, 29903, 29917, 29919, 29921, 29922, 29924, 29926, 29927, 29929, 29931, 29933, 29934, 29936, 29937, 29950, 29952, 29956, 29958, 29960, 29962, 29964, 29992, 29994, 30054, 30056, 30059, 30063, 30080, 30083, 30085, 30088, 30090, 30092, 30095, 30097, 30099, 30101, 30103, 30105, 30113, 30115, 30116, 30118, 30120, 30122, 30124, 30126, 30128, 30129, 30131, 30133, 30134, 30136, 30139, 30140, 30142, 30143, 30145, 30148, 30150, 30152, 30157, 30161, 30162, 30165, 30167, 30169, 30172, 30175, 30177, 30179, 30181, 30183, 30196, 30198, 30199, 30201, 30202, 30204, 30205, 30207, 30208, 30210, 30211, 30213, 30214, 30216, 30218, 30219, 30221, 30223, 30225, 30226, 30228, 30230, 30234, 30245, 30247, 30248, 30250, 30251, 30253, 30254, 30255, 30257, 30258, 30259, 30261, 30262, 30264, 30265, 30267, 30268, 30269, 30271, 30272, 30274, 30275, 30276, 30278, 30283, 30285, 30288, 30290, 30292, 30294, 30296, 30298, 30300, 30302, 30303, 30305, 30307, 30308, 30310, 30312, 30314, 30316, 30317, 30319, 30320, 30321, 30323, 30324, 30326, 30327, 30329, 30330, 30331, 30333, 30335, 30336, 30338, 30340, 30342, 30343, 30345, 30347, 30348, 30350, 30351, 30353, 30355, 30357, 30359, 30361, 30362, 30364, 30365, 30367, 30368, 30370, 30372, 30374, 30376, 30378, 30380, 30382, 30384, 30386, 30399, 30401, 30403, 30405, 30407, 30409, 30411, 30413, 30415, 30417, 30418, 30420, 30421, 30423, 30425, 30426, 30428, 30431, 30432, 30434, 30437, 30448, 30481, 30483, 30485, 30487, 30488, 30604, 30606, 30608, 30611, 30613, 30620, 30622, 30623, 30625, 30626, 30627, 30629, 30630, 30631, 30633, 30634, 30635, 30637, 30638, 30639, 30641, 30642, 30643, 30645, 30646, 30648, 30649, 30651, 30653, 30654, 30667, 30669, 30822, 30824, 30827, 30829, 30831, 30833, 30834, 30836, 30837, 30839, 30841, 30843, 30845, 30950, 30952, 30954, 30955, 30957, 30958, 30960, 30961, 30963, 31172, 31173, 31175, 31177, 31192, 31194, 31196, 31198, 31199, 31201, 31202, 31203, 31205, 31208, 31210, 31212, 31214, 31216, 31218, 31224, 31226, 31268, 31270, 31358, 31362, 31371, 31374, 31375, 31377, 31379, 31382, 31383, 31385, 31386, 31388, 31393, 31396, 31398, 31400, 31411, 31413, 31418, 31466, 31468, 31525, 31527, 31530, 31531, 31533, 31534, 31544, 31549, 31685, 31687, 31689, 31691, 31693, 31695, 31697, 31699, 31701, 31703, 31706, 31708, 31710, 31711, 31714, 31796, 31798, 31800, 31802, 31804, 31806, 31828, 31968, 31971, 31972, 31974, 31975, 31977, 31978, 31979, 31981, 31982, 31984, 31985, 31986, 31988, 31989, 31991, 31992, 31994, 31995, 31997, 31998, 32000, 32001, 32002, 32005, 32006, 32008, 32009, 32011, 32013, 32015, 32016, 32018, 32019, 32021, 32023, 32025, 32058, 32061, 32063, 32064, 32066, 32067, 32069, 32070, 32072, 32074, 32075, 32077, 32079, 32080, 32082, 32083, 32085, 32086, 32088, 32089, 32091, 32092, 32094, 32095, 32097, 32098, 32104, 32107, 32109, 32111, 32113, 32121, 32123, 32124, 32126, 32128, 32129, 32131, 32156, 32192, 32194, 32196, 32198, 32200, 32202, 32204, 32206, 32208, 32215, 32291, 32293, 32295, 32298, 32311, 32313, 32314, 32315, 32317, 32318, 32319, 32321, 32322, 32324, 32325, 32327, 32328, 32330, 32331, 32333, 32335, 32339, 32340, 32342, 32344, 32345, 32347, 32349, 32351, 32353, 32355, 32357, 32359, 32360, 32362, 32364, 32366, 32425, 32500, 32501, 32503, 32506, 32508, 32510, 32526, 32528, 32530, 32532, 32534, 32535, 32537, 32538, 32540, 32541, 32543, 32544, 32545, 32547, 32548, 32550, 32551, 32553, 32554, 32556, 32557, 32559, 32560, 32562, 32564, 32565, 32592, 32604, 32606, 32608, 32610, 32612, 32613, 32615, 32617, 32618, 32620, 32621, 32623, 32624, 32626, 32627, 32629, 32631, 32633, 32635, 32637, 32639, 32662, 32665, 32668, 32670, 32672, 32674, 32675, 32676, 32678, 32679, 32680, 32682, 32683, 32684, 32686, 32688, 32689, 32691, 32692, 32694, 32695, 32697, 32698, 32700, 32701, 32702, 32704, 32705, 32706, 32708, 32709, 32710, 32712, 32713, 32715, 32716, 32717, 32718, 32720, 32721, 32723, 32724, 32726, 32727, 32729, 32730, 32739, 32741, 32742, 32744, 32805, 32807, 32808, 32810, 32812, 32813, 32842, 32844, 32845, 32847, 32848, 32850, 32851, 32852, 32854, 32855, 32856, 32858, 32860, 32861, 32863, 32864, 32866, 32869, 32870, 32872, 32873, 32874, 32876, 32877, 32879, 32880, 32882, 32883, 32885, 32886, 32888, 32890, 32892, 32894, 32895, 32897, 32914, 32917, 32919, 33003, 33010, 33012, 33019, 33028, 33029, 33031, 33033, 33035, 33037, 33039, 33041, 33042, 33044, 33045, 33047, 33048, 33050, 33051, 33053, 33054, 33056, 33058, 33060, 33062, 33064, 33065, 33067, 33069, 33070, 33072, 33073, 33075, 33076, 33078, 33079, 33081, 33083, 33084, 33086, 33087, 33092, 33095, 33096, 33098, 33099, 33101, 33103, 33107, 33109, 33111, 33112, 33115, 33117, 33118, 33120, 33195, 33198, 33200, 33202, 33207, 33209, 33211, 33213, 33215, 33218, 33219, 33221, 33222, 33224, 33225, 33227, 33228, 33230, 33232, 33233, 33235, 33236, 33237, 33239, 33240, 33241, 33243, 33244, 33246, 33247, 33249, 33250, 33252, 33253, 33255, 33256, 33258, 33259, 33261, 33262, 33263, 33265, 33266, 33267, 33269, 33270, 33272, 33274, 33276, 33278, 33280, 33282, 33284, 33286, 33288, 33290, 33291, 33293, 33294, 33296, 33298, 33300, 33457, 33460, 33462, 33464, 33465, 33467, 33468, 33469, 33471, 33473, 33475, 33477, 33513, 33515, 33634, 33636, 33637, 33639, 33640, 33642, 33653, 33655, 33656, 33657, 33659, 33660, 33662, 33664, 33666, 33667, 33669, 33670, 33672, 33674, 33675, 33676, 33678, 33685, 33694, 33696, 33697, 33698, 33700, 33701, 33703, 33704, 33706, 33707, 33709, 33710, 33712, 33713, 33715, 33717, 33719, 33720, 33723, 33725, 33729, 33731, 33733, 33734, 33735, 33737, 33738, 33740, 33741, 33743, 33744, 33746, 33748]\n"
     ]
    }
   ],
   "source": [
    "print(indices)\n"
   ]
  },
  {
   "cell_type": "code",
   "execution_count": 282,
   "metadata": {},
   "outputs": [
    {
     "name": "stdout",
     "output_type": "stream",
     "text": [
      "5161\n",
      "(5161,)\n"
     ]
    }
   ],
   "source": [
    "indices1 = np.array(indices)\n",
    "print(len(indices))\n",
    "print(indices1.shape)"
   ]
  },
  {
   "cell_type": "code",
   "execution_count": 284,
   "metadata": {},
   "outputs": [],
   "source": [
    "ind = pd.DataFrame(indices1)\n",
    "ind.to_csv(\"./indices_list.csv\",index = False)"
   ]
  },
  {
   "cell_type": "code",
   "execution_count": 271,
   "metadata": {},
   "outputs": [
    {
     "name": "stdout",
     "output_type": "stream",
     "text": [
      "[2012.   12.   14.   20.]\n",
      "[2012.   12.   14.   20.]\n"
     ]
    }
   ],
   "source": [
    "print(data[2006,11:])\n",
    "print(data[2007,11:])\n"
   ]
  },
  {
   "cell_type": "code",
   "execution_count": 261,
   "metadata": {},
   "outputs": [
    {
     "name": "stdout",
     "output_type": "stream",
     "text": [
      "[[2012.   10.   10.    7.]\n",
      " [2012.   10.   10.    7.]\n",
      " [2017.    5.   17.   23.]\n",
      " [2017.    5.   17.   23.]]\n"
     ]
    }
   ],
   "source": [
    "print(outlier_repeated_date[:,12:]) #printing date_time of outlier matrix"
   ]
  },
  {
   "cell_type": "code",
   "execution_count": 235,
   "metadata": {},
   "outputs": [],
   "source": [
    "# # repeating date outlier csv\n",
    "# out = outlier_repeated_date"
   ]
  },
  {
   "cell_type": "code",
   "execution_count": 262,
   "metadata": {},
   "outputs": [],
   "source": [
    "out = pd.DataFrame(outlier_repeated_date)\n",
    "out.to_csv(\"./outlier_repeated_dates_final1.csv\", index= False)"
   ]
  },
  {
   "cell_type": "markdown",
   "metadata": {},
   "source": [
    "### Finding indices for which data is missing"
   ]
  },
  {
   "cell_type": "code",
   "execution_count": 288,
   "metadata": {},
   "outputs": [],
   "source": [
    "data_1 = np.zeros((data.shape[0]-len(indices),data.shape[1]))"
   ]
  },
  {
   "cell_type": "code",
   "execution_count": 259,
   "metadata": {},
   "outputs": [
    {
     "name": "stdout",
     "output_type": "stream",
     "text": [
      "[[2.012e+03 1.000e+01 2.000e+00 9.000e+00]\n",
      " [2.012e+03 1.000e+01 2.000e+00 1.000e+01]\n",
      " [2.012e+03 1.000e+01 2.000e+00 1.100e+01]\n",
      " [2.012e+03 1.000e+01 2.000e+00 1.200e+01]\n",
      " [2.012e+03 1.000e+01 2.000e+00 1.300e+01]\n",
      " [2.012e+03 1.000e+01 2.000e+00 1.400e+01]\n",
      " [2.012e+03 1.000e+01 2.000e+00 1.500e+01]\n",
      " [2.012e+03 1.000e+01 2.000e+00 1.600e+01]\n",
      " [2.012e+03 1.000e+01 2.000e+00 1.700e+01]\n",
      " [2.012e+03 1.000e+01 2.000e+00 1.800e+01]\n",
      " [2.012e+03 1.000e+01 2.000e+00 1.900e+01]\n",
      " [2.012e+03 1.000e+01 2.000e+00 2.000e+01]\n",
      " [2.012e+03 1.000e+01 2.000e+00 2.100e+01]\n",
      " [2.012e+03 1.000e+01 2.000e+00 2.200e+01]\n",
      " [2.012e+03 1.000e+01 2.000e+00 2.300e+01]]\n"
     ]
    }
   ],
   "source": [
    "print(data[:15,11:])"
   ]
  },
  {
   "cell_type": "code",
   "execution_count": 290,
   "metadata": {},
   "outputs": [],
   "source": [
    "data1 = np.zeros((data.shape))"
   ]
  },
  {
   "cell_type": "code",
   "execution_count": 289,
   "metadata": {},
   "outputs": [
    {
     "name": "stdout",
     "output_type": "stream",
     "text": [
      "(28589, 15)\n"
     ]
    }
   ],
   "source": [
    "print(data_1.shape)"
   ]
  },
  {
   "cell_type": "code",
   "execution_count": 294,
   "metadata": {},
   "outputs": [],
   "source": [
    "d1 = []"
   ]
  },
  {
   "cell_type": "code",
   "execution_count": 295,
   "metadata": {},
   "outputs": [],
   "source": [
    "# for i in range(data.shape[0]):\n",
    "#     for j in range (len(indices)):\n",
    "#         if i != indices[j]:\n",
    "#             d = data[i]\n",
    "#             #print(d)\n",
    "#     d1.append(d)\n",
    "        "
   ]
  },
  {
   "cell_type": "code",
   "execution_count": 297,
   "metadata": {},
   "outputs": [
    {
     "name": "stderr",
     "output_type": "stream",
     "text": [
      "IOPub data rate exceeded.\n",
      "The notebook server will temporarily stop sending output\n",
      "to the client in order to avoid crashing it.\n",
      "To change this limit, set the config variable\n",
      "`--NotebookApp.iopub_data_rate_limit`.\n",
      "\n",
      "Current values:\n",
      "NotebookApp.iopub_data_rate_limit=1000000.0 (bytes/sec)\n",
      "NotebookApp.rate_limit_window=3.0 (secs)\n",
      "\n"
     ]
    }
   ],
   "source": [
    "# print(d1)"
   ]
  },
  {
   "cell_type": "code",
   "execution_count": 298,
   "metadata": {},
   "outputs": [
    {
     "data": {
      "text/plain": [
       "array([0.0000e+00, 2.3000e+01, 6.5000e+01, 3.2800e+02, 6.0000e+00,\n",
       "       2.9172e+02, 0.0000e+00, 0.0000e+00, 1.0000e+00, 1.0000e+00,\n",
       "       5.1810e+03, 2.0120e+03, 1.0000e+01, 2.0000e+00, 1.4000e+01])"
      ]
     },
     "execution_count": 298,
     "metadata": {},
     "output_type": "execute_result"
    }
   ],
   "source": [
    "# d1[5]"
   ]
  },
  {
   "cell_type": "code",
   "execution_count": 299,
   "metadata": {},
   "outputs": [
    {
     "data": {
      "text/plain": [
       "33750"
      ]
     },
     "execution_count": 299,
     "metadata": {},
     "output_type": "execute_result"
    }
   ],
   "source": [
    "# len(d1)"
   ]
  },
  {
   "cell_type": "code",
   "execution_count": 308,
   "metadata": {},
   "outputs": [],
   "source": [
    "# for i in range (len(indices)):\n",
    "#     df1.drop([indices[i]])\n",
    "# df1.drop([indices],axis=0)"
   ]
  },
  {
   "cell_type": "code",
   "execution_count": 306,
   "metadata": {},
   "outputs": [],
   "source": [
    "# print(df1)"
   ]
  },
  {
   "cell_type": "code",
   "execution_count": null,
   "metadata": {},
   "outputs": [],
   "source": []
  },
  {
   "cell_type": "code",
   "execution_count": null,
   "metadata": {},
   "outputs": [],
   "source": []
  }
 ],
 "metadata": {
  "kernelspec": {
   "display_name": "Python 3",
   "language": "python",
   "name": "python3"
  },
  "language_info": {
   "codemirror_mode": {
    "name": "ipython",
    "version": 3
   },
   "file_extension": ".py",
   "mimetype": "text/x-python",
   "name": "python",
   "nbconvert_exporter": "python",
   "pygments_lexer": "ipython3",
   "version": "3.7.4"
  }
 },
 "nbformat": 4,
 "nbformat_minor": 2
}
