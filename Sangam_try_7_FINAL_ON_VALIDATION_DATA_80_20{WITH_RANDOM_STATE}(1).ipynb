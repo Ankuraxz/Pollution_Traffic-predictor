{
  "nbformat": 4,
  "nbformat_minor": 0,
  "metadata": {
    "kernelspec": {
      "display_name": "Python 3",
      "language": "python",
      "name": "python3"
    },
    "language_info": {
      "codemirror_mode": {
        "name": "ipython",
        "version": 3
      },
      "file_extension": ".py",
      "mimetype": "text/x-python",
      "name": "python",
      "nbconvert_exporter": "python",
      "pygments_lexer": "ipython3",
      "version": "3.7.4"
    },
    "colab": {
      "name": "Sangam_try_7_FINAL_ON_VALIDATION_DATA_80_20{WITH_RANDOM_STATE}(1).ipynb",
      "provenance": [],
      "collapsed_sections": [],
      "toc_visible": true,
      "include_colab_link": true
    }
  },
  "cells": [
    {
      "cell_type": "markdown",
      "metadata": {
        "id": "view-in-github",
        "colab_type": "text"
      },
      "source": [
        "<a href=\"https://colab.research.google.com/github/Ankuraxz/Pollution_Traffic-predictor/blob/master/Sangam_try_7_FINAL_ON_VALIDATION_DATA_80_20%7BWITH_RANDOM_STATE%7D(1).ipynb\" target=\"_parent\"><img src=\"https://colab.research.google.com/assets/colab-badge.svg\" alt=\"Open In Colab\"/></a>"
      ]
    },
    {
      "cell_type": "markdown",
      "metadata": {
        "id": "HSM3bACRKXA-",
        "colab_type": "text"
      },
      "source": [
        "# Trying various updates like hyper parameter tuning in Random Forest\n"
      ]
    },
    {
      "cell_type": "markdown",
      "metadata": {
        "id": "1vDB4mYLKXBB",
        "colab_type": "text"
      },
      "source": [
        "# TRIAL 1"
      ]
    },
    {
      "cell_type": "markdown",
      "metadata": {
        "id": "_l8wGi2LKXBF",
        "colab_type": "text"
      },
      "source": [
        "### NEW_UPDATED Target Mean Squared log Error = 0.0602030386148418\n",
        "\n",
        "at n_estimator = 3500\n",
        "\n",
        "\n",
        "max_depth = 9\n",
        "\n",
        "\n",
        "max_feature = n_feature\n",
        "\n",
        "n_leaf_node = deafult = 1"
      ]
    },
    {
      "cell_type": "markdown",
      "metadata": {
        "id": "GsK4mi5ViS0g",
        "colab_type": "text"
      },
      "source": [
        ""
      ]
    },
    {
      "cell_type": "markdown",
      "metadata": {
        "id": "7n4BnMHkKXBJ",
        "colab_type": "text"
      },
      "source": [
        "## Proposed Changes in Algo: \n",
        "1. Introducing random state\n",
        "{ref: https://stats.stackexchange.com/questions/263999/is-random-state-a-parameter-to-tune}\n",
        "\n",
        "1.1.0 randomstate = 11      err: 0.060114911173169236 :))))\n",
        "\n",
        "\n",
        "\n",
        "1.2                           RS    50      err: 0.06020095508640084 :_"
      ]
    },
    {
      "cell_type": "code",
      "metadata": {
        "id": "CYk3hULMKXBM",
        "colab_type": "code",
        "colab": {}
      },
      "source": [
        "import pandas as pd\n",
        "import numpy as np\n",
        "import matplotlib.pyplot as plt\n",
        "%matplotlib inline\n",
        "import warnings\n",
        "warnings.filterwarnings('ignore')"
      ],
      "execution_count": 0,
      "outputs": []
    },
    {
      "cell_type": "code",
      "metadata": {
        "id": "XPYGz_zcPPbZ",
        "colab_type": "code",
        "colab": {}
      },
      "source": [
        "# from google.colab import drive\n",
        "# drive.mount('/content/drive')"
      ],
      "execution_count": 0,
      "outputs": []
    },
    {
      "cell_type": "code",
      "metadata": {
        "id": "99qA6MylKXBU",
        "colab_type": "code",
        "colab": {}
      },
      "source": [
        "df = pd.read_csv('/content/sangam_Train_4.csv')"
      ],
      "execution_count": 0,
      "outputs": []
    },
    {
      "cell_type": "code",
      "metadata": {
        "id": "FNmv8z0RKXBd",
        "colab_type": "code",
        "outputId": "0bf81188-cf5f-4884-983b-a0d26c0873c4",
        "colab": {
          "base_uri": "https://localhost:8080/",
          "height": 313
        }
      },
      "source": [
        "df.head()"
      ],
      "execution_count": 0,
      "outputs": [
        {
          "output_type": "execute_result",
          "data": {
            "text/html": [
              "<div>\n",
              "<style scoped>\n",
              "    .dataframe tbody tr th:only-of-type {\n",
              "        vertical-align: middle;\n",
              "    }\n",
              "\n",
              "    .dataframe tbody tr th {\n",
              "        vertical-align: top;\n",
              "    }\n",
              "\n",
              "    .dataframe thead th {\n",
              "        text-align: right;\n",
              "    }\n",
              "</style>\n",
              "<table border=\"1\" class=\"dataframe\">\n",
              "  <thead>\n",
              "    <tr style=\"text-align: right;\">\n",
              "      <th></th>\n",
              "      <th>date_time</th>\n",
              "      <th>is_holiday</th>\n",
              "      <th>air_pollution_index</th>\n",
              "      <th>humidity</th>\n",
              "      <th>wind_speed</th>\n",
              "      <th>wind_direction</th>\n",
              "      <th>visibility_in_miles</th>\n",
              "      <th>dew_point</th>\n",
              "      <th>temperature</th>\n",
              "      <th>rain_p_h</th>\n",
              "      <th>snow_p_h</th>\n",
              "      <th>clouds_all</th>\n",
              "      <th>weather_type</th>\n",
              "      <th>weather_description</th>\n",
              "      <th>traffic_volume</th>\n",
              "      <th>Year</th>\n",
              "      <th>Month</th>\n",
              "      <th>Day</th>\n",
              "      <th>Hour</th>\n",
              "      <th>Day_of_week</th>\n",
              "    </tr>\n",
              "  </thead>\n",
              "  <tbody>\n",
              "    <tr>\n",
              "      <th>0</th>\n",
              "      <td>2012-10-02 09:00:00</td>\n",
              "      <td>0</td>\n",
              "      <td>121</td>\n",
              "      <td>89</td>\n",
              "      <td>2</td>\n",
              "      <td>329</td>\n",
              "      <td>1</td>\n",
              "      <td>1</td>\n",
              "      <td>288.28</td>\n",
              "      <td>0.0</td>\n",
              "      <td>0.0</td>\n",
              "      <td>40</td>\n",
              "      <td>0</td>\n",
              "      <td>0</td>\n",
              "      <td>5545</td>\n",
              "      <td>2012</td>\n",
              "      <td>10</td>\n",
              "      <td>2</td>\n",
              "      <td>9</td>\n",
              "      <td>1</td>\n",
              "    </tr>\n",
              "    <tr>\n",
              "      <th>1</th>\n",
              "      <td>2012-10-02 10:00:00</td>\n",
              "      <td>0</td>\n",
              "      <td>178</td>\n",
              "      <td>67</td>\n",
              "      <td>3</td>\n",
              "      <td>330</td>\n",
              "      <td>1</td>\n",
              "      <td>1</td>\n",
              "      <td>289.36</td>\n",
              "      <td>0.0</td>\n",
              "      <td>0.0</td>\n",
              "      <td>75</td>\n",
              "      <td>0</td>\n",
              "      <td>1</td>\n",
              "      <td>4516</td>\n",
              "      <td>2012</td>\n",
              "      <td>10</td>\n",
              "      <td>2</td>\n",
              "      <td>10</td>\n",
              "      <td>1</td>\n",
              "    </tr>\n",
              "    <tr>\n",
              "      <th>2</th>\n",
              "      <td>2012-10-02 11:00:00</td>\n",
              "      <td>0</td>\n",
              "      <td>113</td>\n",
              "      <td>66</td>\n",
              "      <td>3</td>\n",
              "      <td>329</td>\n",
              "      <td>2</td>\n",
              "      <td>2</td>\n",
              "      <td>289.58</td>\n",
              "      <td>0.0</td>\n",
              "      <td>0.0</td>\n",
              "      <td>90</td>\n",
              "      <td>0</td>\n",
              "      <td>2</td>\n",
              "      <td>4767</td>\n",
              "      <td>2012</td>\n",
              "      <td>10</td>\n",
              "      <td>2</td>\n",
              "      <td>11</td>\n",
              "      <td>1</td>\n",
              "    </tr>\n",
              "    <tr>\n",
              "      <th>3</th>\n",
              "      <td>2012-10-02 12:00:00</td>\n",
              "      <td>0</td>\n",
              "      <td>20</td>\n",
              "      <td>66</td>\n",
              "      <td>3</td>\n",
              "      <td>329</td>\n",
              "      <td>5</td>\n",
              "      <td>5</td>\n",
              "      <td>290.13</td>\n",
              "      <td>0.0</td>\n",
              "      <td>0.0</td>\n",
              "      <td>90</td>\n",
              "      <td>0</td>\n",
              "      <td>2</td>\n",
              "      <td>5026</td>\n",
              "      <td>2012</td>\n",
              "      <td>10</td>\n",
              "      <td>2</td>\n",
              "      <td>12</td>\n",
              "      <td>1</td>\n",
              "    </tr>\n",
              "    <tr>\n",
              "      <th>4</th>\n",
              "      <td>2012-10-02 13:00:00</td>\n",
              "      <td>0</td>\n",
              "      <td>281</td>\n",
              "      <td>65</td>\n",
              "      <td>3</td>\n",
              "      <td>329</td>\n",
              "      <td>7</td>\n",
              "      <td>7</td>\n",
              "      <td>291.14</td>\n",
              "      <td>0.0</td>\n",
              "      <td>0.0</td>\n",
              "      <td>75</td>\n",
              "      <td>0</td>\n",
              "      <td>1</td>\n",
              "      <td>4918</td>\n",
              "      <td>2012</td>\n",
              "      <td>10</td>\n",
              "      <td>2</td>\n",
              "      <td>13</td>\n",
              "      <td>1</td>\n",
              "    </tr>\n",
              "  </tbody>\n",
              "</table>\n",
              "</div>"
            ],
            "text/plain": [
              "             date_time  is_holiday  air_pollution_index  ...  Day  Hour  Day_of_week\n",
              "0  2012-10-02 09:00:00           0                  121  ...    2     9            1\n",
              "1  2012-10-02 10:00:00           0                  178  ...    2    10            1\n",
              "2  2012-10-02 11:00:00           0                  113  ...    2    11            1\n",
              "3  2012-10-02 12:00:00           0                   20  ...    2    12            1\n",
              "4  2012-10-02 13:00:00           0                  281  ...    2    13            1\n",
              "\n",
              "[5 rows x 20 columns]"
            ]
          },
          "metadata": {
            "tags": []
          },
          "execution_count": 4
        }
      ]
    },
    {
      "cell_type": "code",
      "metadata": {
        "id": "0ffqVL9KKXBm",
        "colab_type": "code",
        "outputId": "4556fdc8-2f46-434b-9179-763fa4dd8bbc",
        "colab": {
          "base_uri": "https://localhost:8080/",
          "height": 479
        }
      },
      "source": [
        "df.info()"
      ],
      "execution_count": 0,
      "outputs": [
        {
          "output_type": "stream",
          "text": [
            "<class 'pandas.core.frame.DataFrame'>\n",
            "RangeIndex: 28589 entries, 0 to 28588\n",
            "Data columns (total 20 columns):\n",
            "date_time              28589 non-null object\n",
            "is_holiday             28589 non-null int64\n",
            "air_pollution_index    28589 non-null int64\n",
            "humidity               28589 non-null int64\n",
            "wind_speed             28589 non-null int64\n",
            "wind_direction         28589 non-null int64\n",
            "visibility_in_miles    28589 non-null int64\n",
            "dew_point              28589 non-null int64\n",
            "temperature            28589 non-null float64\n",
            "rain_p_h               28589 non-null float64\n",
            "snow_p_h               28589 non-null float64\n",
            "clouds_all             28589 non-null int64\n",
            "weather_type           28589 non-null int64\n",
            "weather_description    28589 non-null int64\n",
            "traffic_volume         28589 non-null int64\n",
            "Year                   28589 non-null int64\n",
            "Month                  28589 non-null int64\n",
            "Day                    28589 non-null int64\n",
            "Hour                   28589 non-null int64\n",
            "Day_of_week            28589 non-null int64\n",
            "dtypes: float64(3), int64(16), object(1)\n",
            "memory usage: 4.4+ MB\n"
          ],
          "name": "stdout"
        }
      ]
    },
    {
      "cell_type": "code",
      "metadata": {
        "id": "nTYg8WjUKXBv",
        "colab_type": "code",
        "colab": {}
      },
      "source": [
        "del df['date_time']\n",
        "del df['dew_point']"
      ],
      "execution_count": 0,
      "outputs": []
    },
    {
      "cell_type": "code",
      "metadata": {
        "id": "EWpmx7jqKXB0",
        "colab_type": "code",
        "outputId": "97fa2142-50ac-4f6a-85d4-788baadb6ed4",
        "colab": {
          "base_uri": "https://localhost:8080/",
          "height": 226
        }
      },
      "source": [
        "df.head()"
      ],
      "execution_count": 0,
      "outputs": [
        {
          "output_type": "execute_result",
          "data": {
            "text/html": [
              "<div>\n",
              "<style scoped>\n",
              "    .dataframe tbody tr th:only-of-type {\n",
              "        vertical-align: middle;\n",
              "    }\n",
              "\n",
              "    .dataframe tbody tr th {\n",
              "        vertical-align: top;\n",
              "    }\n",
              "\n",
              "    .dataframe thead th {\n",
              "        text-align: right;\n",
              "    }\n",
              "</style>\n",
              "<table border=\"1\" class=\"dataframe\">\n",
              "  <thead>\n",
              "    <tr style=\"text-align: right;\">\n",
              "      <th></th>\n",
              "      <th>is_holiday</th>\n",
              "      <th>air_pollution_index</th>\n",
              "      <th>humidity</th>\n",
              "      <th>wind_speed</th>\n",
              "      <th>wind_direction</th>\n",
              "      <th>visibility_in_miles</th>\n",
              "      <th>temperature</th>\n",
              "      <th>rain_p_h</th>\n",
              "      <th>snow_p_h</th>\n",
              "      <th>clouds_all</th>\n",
              "      <th>weather_type</th>\n",
              "      <th>weather_description</th>\n",
              "      <th>traffic_volume</th>\n",
              "      <th>Year</th>\n",
              "      <th>Month</th>\n",
              "      <th>Day</th>\n",
              "      <th>Hour</th>\n",
              "      <th>Day_of_week</th>\n",
              "    </tr>\n",
              "  </thead>\n",
              "  <tbody>\n",
              "    <tr>\n",
              "      <th>0</th>\n",
              "      <td>0</td>\n",
              "      <td>121</td>\n",
              "      <td>89</td>\n",
              "      <td>2</td>\n",
              "      <td>329</td>\n",
              "      <td>1</td>\n",
              "      <td>288.28</td>\n",
              "      <td>0.0</td>\n",
              "      <td>0.0</td>\n",
              "      <td>40</td>\n",
              "      <td>0</td>\n",
              "      <td>0</td>\n",
              "      <td>5545</td>\n",
              "      <td>2012</td>\n",
              "      <td>10</td>\n",
              "      <td>2</td>\n",
              "      <td>9</td>\n",
              "      <td>1</td>\n",
              "    </tr>\n",
              "    <tr>\n",
              "      <th>1</th>\n",
              "      <td>0</td>\n",
              "      <td>178</td>\n",
              "      <td>67</td>\n",
              "      <td>3</td>\n",
              "      <td>330</td>\n",
              "      <td>1</td>\n",
              "      <td>289.36</td>\n",
              "      <td>0.0</td>\n",
              "      <td>0.0</td>\n",
              "      <td>75</td>\n",
              "      <td>0</td>\n",
              "      <td>1</td>\n",
              "      <td>4516</td>\n",
              "      <td>2012</td>\n",
              "      <td>10</td>\n",
              "      <td>2</td>\n",
              "      <td>10</td>\n",
              "      <td>1</td>\n",
              "    </tr>\n",
              "    <tr>\n",
              "      <th>2</th>\n",
              "      <td>0</td>\n",
              "      <td>113</td>\n",
              "      <td>66</td>\n",
              "      <td>3</td>\n",
              "      <td>329</td>\n",
              "      <td>2</td>\n",
              "      <td>289.58</td>\n",
              "      <td>0.0</td>\n",
              "      <td>0.0</td>\n",
              "      <td>90</td>\n",
              "      <td>0</td>\n",
              "      <td>2</td>\n",
              "      <td>4767</td>\n",
              "      <td>2012</td>\n",
              "      <td>10</td>\n",
              "      <td>2</td>\n",
              "      <td>11</td>\n",
              "      <td>1</td>\n",
              "    </tr>\n",
              "    <tr>\n",
              "      <th>3</th>\n",
              "      <td>0</td>\n",
              "      <td>20</td>\n",
              "      <td>66</td>\n",
              "      <td>3</td>\n",
              "      <td>329</td>\n",
              "      <td>5</td>\n",
              "      <td>290.13</td>\n",
              "      <td>0.0</td>\n",
              "      <td>0.0</td>\n",
              "      <td>90</td>\n",
              "      <td>0</td>\n",
              "      <td>2</td>\n",
              "      <td>5026</td>\n",
              "      <td>2012</td>\n",
              "      <td>10</td>\n",
              "      <td>2</td>\n",
              "      <td>12</td>\n",
              "      <td>1</td>\n",
              "    </tr>\n",
              "    <tr>\n",
              "      <th>4</th>\n",
              "      <td>0</td>\n",
              "      <td>281</td>\n",
              "      <td>65</td>\n",
              "      <td>3</td>\n",
              "      <td>329</td>\n",
              "      <td>7</td>\n",
              "      <td>291.14</td>\n",
              "      <td>0.0</td>\n",
              "      <td>0.0</td>\n",
              "      <td>75</td>\n",
              "      <td>0</td>\n",
              "      <td>1</td>\n",
              "      <td>4918</td>\n",
              "      <td>2012</td>\n",
              "      <td>10</td>\n",
              "      <td>2</td>\n",
              "      <td>13</td>\n",
              "      <td>1</td>\n",
              "    </tr>\n",
              "  </tbody>\n",
              "</table>\n",
              "</div>"
            ],
            "text/plain": [
              "   is_holiday  air_pollution_index  humidity  ...  Day  Hour  Day_of_week\n",
              "0           0                  121        89  ...    2     9            1\n",
              "1           0                  178        67  ...    2    10            1\n",
              "2           0                  113        66  ...    2    11            1\n",
              "3           0                   20        66  ...    2    12            1\n",
              "4           0                  281        65  ...    2    13            1\n",
              "\n",
              "[5 rows x 18 columns]"
            ]
          },
          "metadata": {
            "tags": []
          },
          "execution_count": 7
        }
      ]
    },
    {
      "cell_type": "code",
      "metadata": {
        "id": "crbRUJLOKXB8",
        "colab_type": "code",
        "outputId": "a584179b-dd30-478f-beea-2135ada985e9",
        "colab": {
          "base_uri": "https://localhost:8080/",
          "height": 442
        }
      },
      "source": [
        "df.info()"
      ],
      "execution_count": 0,
      "outputs": [
        {
          "output_type": "stream",
          "text": [
            "<class 'pandas.core.frame.DataFrame'>\n",
            "RangeIndex: 28589 entries, 0 to 28588\n",
            "Data columns (total 18 columns):\n",
            "is_holiday             28589 non-null int64\n",
            "air_pollution_index    28589 non-null int64\n",
            "humidity               28589 non-null int64\n",
            "wind_speed             28589 non-null int64\n",
            "wind_direction         28589 non-null int64\n",
            "visibility_in_miles    28589 non-null int64\n",
            "temperature            28589 non-null float64\n",
            "rain_p_h               28589 non-null float64\n",
            "snow_p_h               28589 non-null float64\n",
            "clouds_all             28589 non-null int64\n",
            "weather_type           28589 non-null int64\n",
            "weather_description    28589 non-null int64\n",
            "traffic_volume         28589 non-null int64\n",
            "Year                   28589 non-null int64\n",
            "Month                  28589 non-null int64\n",
            "Day                    28589 non-null int64\n",
            "Hour                   28589 non-null int64\n",
            "Day_of_week            28589 non-null int64\n",
            "dtypes: float64(3), int64(15)\n",
            "memory usage: 3.9 MB\n"
          ],
          "name": "stdout"
        }
      ]
    },
    {
      "cell_type": "code",
      "metadata": {
        "id": "GmoPwbrYKXCA",
        "colab_type": "code",
        "colab": {}
      },
      "source": [
        "cols = df.columns"
      ],
      "execution_count": 0,
      "outputs": []
    },
    {
      "cell_type": "code",
      "metadata": {
        "id": "8bnhkqqWKXCE",
        "colab_type": "code",
        "colab": {}
      },
      "source": [
        "cols = list(cols)"
      ],
      "execution_count": 0,
      "outputs": []
    },
    {
      "cell_type": "code",
      "metadata": {
        "id": "5MW-BWnkKXCL",
        "colab_type": "code",
        "outputId": "311105a5-aa66-4874-9a06-936e10d42678",
        "colab": {
          "base_uri": "https://localhost:8080/",
          "height": 55
        }
      },
      "source": [
        "print( cols)"
      ],
      "execution_count": 0,
      "outputs": [
        {
          "output_type": "stream",
          "text": [
            "['is_holiday', 'air_pollution_index', 'humidity', 'wind_speed', 'wind_direction', 'visibility_in_miles', 'temperature', 'rain_p_h', 'snow_p_h', 'clouds_all', 'weather_type', 'weather_description', 'traffic_volume', 'Year', 'Month', 'Day', 'Hour', 'Day_of_week']\n"
          ],
          "name": "stdout"
        }
      ]
    },
    {
      "cell_type": "code",
      "metadata": {
        "id": "yG8787ciKXCQ",
        "colab_type": "code",
        "colab": {}
      },
      "source": [
        "del cols[12]"
      ],
      "execution_count": 0,
      "outputs": []
    },
    {
      "cell_type": "code",
      "metadata": {
        "id": "n1RnCVJGKXCU",
        "colab_type": "code",
        "colab": {}
      },
      "source": [
        "cols.append('traffic_volume')"
      ],
      "execution_count": 0,
      "outputs": []
    },
    {
      "cell_type": "code",
      "metadata": {
        "id": "1sny7CjpKXCY",
        "colab_type": "code",
        "outputId": "77315aae-ecdb-4978-9005-086f16a3cd2b",
        "colab": {
          "base_uri": "https://localhost:8080/",
          "height": 55
        }
      },
      "source": [
        "print(cols)"
      ],
      "execution_count": 0,
      "outputs": [
        {
          "output_type": "stream",
          "text": [
            "['is_holiday', 'air_pollution_index', 'humidity', 'wind_speed', 'wind_direction', 'visibility_in_miles', 'temperature', 'rain_p_h', 'snow_p_h', 'clouds_all', 'weather_type', 'weather_description', 'Year', 'Month', 'Day', 'Hour', 'Day_of_week', 'traffic_volume']\n"
          ],
          "name": "stdout"
        }
      ]
    },
    {
      "cell_type": "code",
      "metadata": {
        "id": "FcUP1GSHKXCd",
        "colab_type": "code",
        "colab": {}
      },
      "source": [
        "df = df[cols]"
      ],
      "execution_count": 0,
      "outputs": []
    },
    {
      "cell_type": "markdown",
      "metadata": {
        "id": "GctzzM1mKXCi",
        "colab_type": "text"
      },
      "source": [
        "#### Co-rrelational matrix"
      ]
    },
    {
      "cell_type": "code",
      "metadata": {
        "id": "JZ12nYLVKXCj",
        "colab_type": "code",
        "outputId": "bfffa2cb-07d8-418a-b967-192955b2525a",
        "colab": {
          "base_uri": "https://localhost:8080/",
          "height": 634
        }
      },
      "source": [
        "df.corr()"
      ],
      "execution_count": 0,
      "outputs": [
        {
          "output_type": "execute_result",
          "data": {
            "text/html": [
              "<div>\n",
              "<style scoped>\n",
              "    .dataframe tbody tr th:only-of-type {\n",
              "        vertical-align: middle;\n",
              "    }\n",
              "\n",
              "    .dataframe tbody tr th {\n",
              "        vertical-align: top;\n",
              "    }\n",
              "\n",
              "    .dataframe thead th {\n",
              "        text-align: right;\n",
              "    }\n",
              "</style>\n",
              "<table border=\"1\" class=\"dataframe\">\n",
              "  <thead>\n",
              "    <tr style=\"text-align: right;\">\n",
              "      <th></th>\n",
              "      <th>is_holiday</th>\n",
              "      <th>air_pollution_index</th>\n",
              "      <th>humidity</th>\n",
              "      <th>wind_speed</th>\n",
              "      <th>wind_direction</th>\n",
              "      <th>visibility_in_miles</th>\n",
              "      <th>temperature</th>\n",
              "      <th>rain_p_h</th>\n",
              "      <th>snow_p_h</th>\n",
              "      <th>clouds_all</th>\n",
              "      <th>weather_type</th>\n",
              "      <th>weather_description</th>\n",
              "      <th>Year</th>\n",
              "      <th>Month</th>\n",
              "      <th>Day</th>\n",
              "      <th>Hour</th>\n",
              "      <th>Day_of_week</th>\n",
              "      <th>traffic_volume</th>\n",
              "    </tr>\n",
              "  </thead>\n",
              "  <tbody>\n",
              "    <tr>\n",
              "      <th>is_holiday</th>\n",
              "      <td>1.000000e+00</td>\n",
              "      <td>0.002094</td>\n",
              "      <td>-3.021066e-07</td>\n",
              "      <td>0.000532</td>\n",
              "      <td>0.000594</td>\n",
              "      <td>-0.006134</td>\n",
              "      <td>-0.004707</td>\n",
              "      <td>-0.000245</td>\n",
              "      <td>-0.000898</td>\n",
              "      <td>0.002291</td>\n",
              "      <td>0.007241</td>\n",
              "      <td>0.007861</td>\n",
              "      <td>-0.003286</td>\n",
              "      <td>0.009352</td>\n",
              "      <td>-0.000843</td>\n",
              "      <td>-0.060337</td>\n",
              "      <td>-0.031795</td>\n",
              "      <td>-0.044855</td>\n",
              "    </tr>\n",
              "    <tr>\n",
              "      <th>air_pollution_index</th>\n",
              "      <td>2.094148e-03</td>\n",
              "      <td>1.000000</td>\n",
              "      <td>9.442761e-04</td>\n",
              "      <td>-0.003600</td>\n",
              "      <td>-0.001928</td>\n",
              "      <td>0.001730</td>\n",
              "      <td>0.006580</td>\n",
              "      <td>0.000510</td>\n",
              "      <td>0.007683</td>\n",
              "      <td>-0.007496</td>\n",
              "      <td>-0.002927</td>\n",
              "      <td>0.009067</td>\n",
              "      <td>-0.007850</td>\n",
              "      <td>0.007323</td>\n",
              "      <td>0.010243</td>\n",
              "      <td>0.003463</td>\n",
              "      <td>0.000838</td>\n",
              "      <td>-0.000009</td>\n",
              "    </tr>\n",
              "    <tr>\n",
              "      <th>humidity</th>\n",
              "      <td>-3.021066e-07</td>\n",
              "      <td>0.000944</td>\n",
              "      <td>1.000000e+00</td>\n",
              "      <td>-0.146912</td>\n",
              "      <td>-0.050006</td>\n",
              "      <td>0.004856</td>\n",
              "      <td>0.037503</td>\n",
              "      <td>-0.013277</td>\n",
              "      <td>0.016852</td>\n",
              "      <td>0.005761</td>\n",
              "      <td>0.032887</td>\n",
              "      <td>0.018935</td>\n",
              "      <td>-0.041755</td>\n",
              "      <td>0.158445</td>\n",
              "      <td>0.061190</td>\n",
              "      <td>0.003046</td>\n",
              "      <td>-0.010471</td>\n",
              "      <td>0.022977</td>\n",
              "    </tr>\n",
              "    <tr>\n",
              "      <th>wind_speed</th>\n",
              "      <td>5.320423e-04</td>\n",
              "      <td>-0.003600</td>\n",
              "      <td>-1.469122e-01</td>\n",
              "      <td>1.000000</td>\n",
              "      <td>0.188301</td>\n",
              "      <td>-0.005117</td>\n",
              "      <td>-0.057985</td>\n",
              "      <td>0.001508</td>\n",
              "      <td>-0.003643</td>\n",
              "      <td>-0.003953</td>\n",
              "      <td>-0.015747</td>\n",
              "      <td>-0.038240</td>\n",
              "      <td>0.088887</td>\n",
              "      <td>-0.096616</td>\n",
              "      <td>0.008019</td>\n",
              "      <td>0.003964</td>\n",
              "      <td>-0.018999</td>\n",
              "      <td>0.001526</td>\n",
              "    </tr>\n",
              "    <tr>\n",
              "      <th>wind_direction</th>\n",
              "      <td>5.937362e-04</td>\n",
              "      <td>-0.001928</td>\n",
              "      <td>-5.000575e-02</td>\n",
              "      <td>0.188301</td>\n",
              "      <td>1.000000</td>\n",
              "      <td>-0.002278</td>\n",
              "      <td>-0.048054</td>\n",
              "      <td>0.002394</td>\n",
              "      <td>0.004445</td>\n",
              "      <td>0.024359</td>\n",
              "      <td>0.016793</td>\n",
              "      <td>-0.001341</td>\n",
              "      <td>0.009535</td>\n",
              "      <td>0.058677</td>\n",
              "      <td>-0.013207</td>\n",
              "      <td>0.005313</td>\n",
              "      <td>-0.019179</td>\n",
              "      <td>0.007366</td>\n",
              "    </tr>\n",
              "    <tr>\n",
              "      <th>visibility_in_miles</th>\n",
              "      <td>-6.133781e-03</td>\n",
              "      <td>0.001730</td>\n",
              "      <td>4.855529e-03</td>\n",
              "      <td>-0.005117</td>\n",
              "      <td>-0.002278</td>\n",
              "      <td>1.000000</td>\n",
              "      <td>0.002724</td>\n",
              "      <td>-0.009105</td>\n",
              "      <td>-0.002168</td>\n",
              "      <td>-0.003313</td>\n",
              "      <td>0.004356</td>\n",
              "      <td>0.005392</td>\n",
              "      <td>-0.001774</td>\n",
              "      <td>-0.003402</td>\n",
              "      <td>0.000132</td>\n",
              "      <td>0.000128</td>\n",
              "      <td>0.004879</td>\n",
              "      <td>0.001492</td>\n",
              "    </tr>\n",
              "    <tr>\n",
              "      <th>temperature</th>\n",
              "      <td>-4.707401e-03</td>\n",
              "      <td>0.006580</td>\n",
              "      <td>3.750258e-02</td>\n",
              "      <td>-0.057985</td>\n",
              "      <td>-0.048054</td>\n",
              "      <td>0.002724</td>\n",
              "      <td>1.000000</td>\n",
              "      <td>0.010297</td>\n",
              "      <td>-0.016147</td>\n",
              "      <td>-0.121615</td>\n",
              "      <td>-0.113663</td>\n",
              "      <td>0.049984</td>\n",
              "      <td>0.090984</td>\n",
              "      <td>0.229044</td>\n",
              "      <td>0.016539</td>\n",
              "      <td>0.122892</td>\n",
              "      <td>-0.010034</td>\n",
              "      <td>0.136161</td>\n",
              "    </tr>\n",
              "    <tr>\n",
              "      <th>rain_p_h</th>\n",
              "      <td>-2.450698e-04</td>\n",
              "      <td>0.000510</td>\n",
              "      <td>-1.327706e-02</td>\n",
              "      <td>0.001508</td>\n",
              "      <td>0.002394</td>\n",
              "      <td>-0.009105</td>\n",
              "      <td>0.010297</td>\n",
              "      <td>1.000000</td>\n",
              "      <td>-0.000141</td>\n",
              "      <td>0.005592</td>\n",
              "      <td>0.002932</td>\n",
              "      <td>0.018171</td>\n",
              "      <td>0.005148</td>\n",
              "      <td>0.001223</td>\n",
              "      <td>-0.002986</td>\n",
              "      <td>0.004517</td>\n",
              "      <td>-0.009007</td>\n",
              "      <td>0.006494</td>\n",
              "    </tr>\n",
              "    <tr>\n",
              "      <th>snow_p_h</th>\n",
              "      <td>-8.983583e-04</td>\n",
              "      <td>0.007683</td>\n",
              "      <td>1.685205e-02</td>\n",
              "      <td>-0.003643</td>\n",
              "      <td>0.004445</td>\n",
              "      <td>-0.002168</td>\n",
              "      <td>-0.016147</td>\n",
              "      <td>-0.000141</td>\n",
              "      <td>1.000000</td>\n",
              "      <td>0.028005</td>\n",
              "      <td>0.033337</td>\n",
              "      <td>0.010343</td>\n",
              "      <td>0.010400</td>\n",
              "      <td>0.018475</td>\n",
              "      <td>0.015768</td>\n",
              "      <td>0.010056</td>\n",
              "      <td>-0.013703</td>\n",
              "      <td>-0.002185</td>\n",
              "    </tr>\n",
              "    <tr>\n",
              "      <th>clouds_all</th>\n",
              "      <td>2.290940e-03</td>\n",
              "      <td>-0.007496</td>\n",
              "      <td>5.760651e-03</td>\n",
              "      <td>-0.003953</td>\n",
              "      <td>0.024359</td>\n",
              "      <td>-0.003313</td>\n",
              "      <td>-0.121615</td>\n",
              "      <td>0.005592</td>\n",
              "      <td>0.028005</td>\n",
              "      <td>1.000000</td>\n",
              "      <td>0.185114</td>\n",
              "      <td>-0.065338</td>\n",
              "      <td>-0.089866</td>\n",
              "      <td>-0.035576</td>\n",
              "      <td>0.059020</td>\n",
              "      <td>0.021290</td>\n",
              "      <td>-0.041866</td>\n",
              "      <td>0.044466</td>\n",
              "    </tr>\n",
              "    <tr>\n",
              "      <th>weather_type</th>\n",
              "      <td>7.240770e-03</td>\n",
              "      <td>-0.002927</td>\n",
              "      <td>3.288679e-02</td>\n",
              "      <td>-0.015747</td>\n",
              "      <td>0.016793</td>\n",
              "      <td>0.004356</td>\n",
              "      <td>-0.113663</td>\n",
              "      <td>0.002932</td>\n",
              "      <td>0.033337</td>\n",
              "      <td>0.185114</td>\n",
              "      <td>1.000000</td>\n",
              "      <td>0.572825</td>\n",
              "      <td>0.061543</td>\n",
              "      <td>0.034133</td>\n",
              "      <td>-0.000956</td>\n",
              "      <td>-0.081924</td>\n",
              "      <td>-0.024444</td>\n",
              "      <td>-0.065609</td>\n",
              "    </tr>\n",
              "    <tr>\n",
              "      <th>weather_description</th>\n",
              "      <td>7.860773e-03</td>\n",
              "      <td>0.009067</td>\n",
              "      <td>1.893550e-02</td>\n",
              "      <td>-0.038240</td>\n",
              "      <td>-0.001341</td>\n",
              "      <td>0.005392</td>\n",
              "      <td>0.049984</td>\n",
              "      <td>0.018171</td>\n",
              "      <td>0.010343</td>\n",
              "      <td>-0.065338</td>\n",
              "      <td>0.572825</td>\n",
              "      <td>1.000000</td>\n",
              "      <td>0.075277</td>\n",
              "      <td>0.085011</td>\n",
              "      <td>0.010888</td>\n",
              "      <td>-0.029113</td>\n",
              "      <td>-0.029749</td>\n",
              "      <td>-0.020095</td>\n",
              "    </tr>\n",
              "    <tr>\n",
              "      <th>Year</th>\n",
              "      <td>-3.286033e-03</td>\n",
              "      <td>-0.007850</td>\n",
              "      <td>-4.175490e-02</td>\n",
              "      <td>0.088887</td>\n",
              "      <td>0.009535</td>\n",
              "      <td>-0.001774</td>\n",
              "      <td>0.090984</td>\n",
              "      <td>0.005148</td>\n",
              "      <td>0.010400</td>\n",
              "      <td>-0.089866</td>\n",
              "      <td>0.061543</td>\n",
              "      <td>0.075277</td>\n",
              "      <td>1.000000</td>\n",
              "      <td>-0.229870</td>\n",
              "      <td>-0.015896</td>\n",
              "      <td>-0.008441</td>\n",
              "      <td>-0.000929</td>\n",
              "      <td>-0.002594</td>\n",
              "    </tr>\n",
              "    <tr>\n",
              "      <th>Month</th>\n",
              "      <td>9.351555e-03</td>\n",
              "      <td>0.007323</td>\n",
              "      <td>1.584446e-01</td>\n",
              "      <td>-0.096616</td>\n",
              "      <td>0.058677</td>\n",
              "      <td>-0.003402</td>\n",
              "      <td>0.229044</td>\n",
              "      <td>0.001223</td>\n",
              "      <td>0.018475</td>\n",
              "      <td>-0.035576</td>\n",
              "      <td>0.034133</td>\n",
              "      <td>0.085011</td>\n",
              "      <td>-0.229870</td>\n",
              "      <td>1.000000</td>\n",
              "      <td>0.018880</td>\n",
              "      <td>0.006036</td>\n",
              "      <td>-0.001446</td>\n",
              "      <td>-0.011304</td>\n",
              "    </tr>\n",
              "    <tr>\n",
              "      <th>Day</th>\n",
              "      <td>-8.434129e-04</td>\n",
              "      <td>0.010243</td>\n",
              "      <td>6.118975e-02</td>\n",
              "      <td>0.008019</td>\n",
              "      <td>-0.013207</td>\n",
              "      <td>0.000132</td>\n",
              "      <td>0.016539</td>\n",
              "      <td>-0.002986</td>\n",
              "      <td>0.015768</td>\n",
              "      <td>0.059020</td>\n",
              "      <td>-0.000956</td>\n",
              "      <td>0.010888</td>\n",
              "      <td>-0.015896</td>\n",
              "      <td>0.018880</td>\n",
              "      <td>1.000000</td>\n",
              "      <td>-0.007081</td>\n",
              "      <td>0.001333</td>\n",
              "      <td>-0.012332</td>\n",
              "    </tr>\n",
              "    <tr>\n",
              "      <th>Hour</th>\n",
              "      <td>-6.033693e-02</td>\n",
              "      <td>0.003463</td>\n",
              "      <td>3.046493e-03</td>\n",
              "      <td>0.003964</td>\n",
              "      <td>0.005313</td>\n",
              "      <td>0.000128</td>\n",
              "      <td>0.122892</td>\n",
              "      <td>0.004517</td>\n",
              "      <td>0.010056</td>\n",
              "      <td>0.021290</td>\n",
              "      <td>-0.081924</td>\n",
              "      <td>-0.029113</td>\n",
              "      <td>-0.008441</td>\n",
              "      <td>0.006036</td>\n",
              "      <td>-0.007081</td>\n",
              "      <td>1.000000</td>\n",
              "      <td>-0.000460</td>\n",
              "      <td>0.350865</td>\n",
              "    </tr>\n",
              "    <tr>\n",
              "      <th>Day_of_week</th>\n",
              "      <td>-3.179465e-02</td>\n",
              "      <td>0.000838</td>\n",
              "      <td>-1.047149e-02</td>\n",
              "      <td>-0.018999</td>\n",
              "      <td>-0.019179</td>\n",
              "      <td>0.004879</td>\n",
              "      <td>-0.010034</td>\n",
              "      <td>-0.009007</td>\n",
              "      <td>-0.013703</td>\n",
              "      <td>-0.041866</td>\n",
              "      <td>-0.024444</td>\n",
              "      <td>-0.029749</td>\n",
              "      <td>-0.000929</td>\n",
              "      <td>-0.001446</td>\n",
              "      <td>0.001333</td>\n",
              "      <td>-0.000460</td>\n",
              "      <td>1.000000</td>\n",
              "      <td>-0.149814</td>\n",
              "    </tr>\n",
              "    <tr>\n",
              "      <th>traffic_volume</th>\n",
              "      <td>-4.485538e-02</td>\n",
              "      <td>-0.000009</td>\n",
              "      <td>2.297738e-02</td>\n",
              "      <td>0.001526</td>\n",
              "      <td>0.007366</td>\n",
              "      <td>0.001492</td>\n",
              "      <td>0.136161</td>\n",
              "      <td>0.006494</td>\n",
              "      <td>-0.002185</td>\n",
              "      <td>0.044466</td>\n",
              "      <td>-0.065609</td>\n",
              "      <td>-0.020095</td>\n",
              "      <td>-0.002594</td>\n",
              "      <td>-0.011304</td>\n",
              "      <td>-0.012332</td>\n",
              "      <td>0.350865</td>\n",
              "      <td>-0.149814</td>\n",
              "      <td>1.000000</td>\n",
              "    </tr>\n",
              "  </tbody>\n",
              "</table>\n",
              "</div>"
            ],
            "text/plain": [
              "                       is_holiday  ...  traffic_volume\n",
              "is_holiday           1.000000e+00  ...       -0.044855\n",
              "air_pollution_index  2.094148e-03  ...       -0.000009\n",
              "humidity            -3.021066e-07  ...        0.022977\n",
              "wind_speed           5.320423e-04  ...        0.001526\n",
              "wind_direction       5.937362e-04  ...        0.007366\n",
              "visibility_in_miles -6.133781e-03  ...        0.001492\n",
              "temperature         -4.707401e-03  ...        0.136161\n",
              "rain_p_h            -2.450698e-04  ...        0.006494\n",
              "snow_p_h            -8.983583e-04  ...       -0.002185\n",
              "clouds_all           2.290940e-03  ...        0.044466\n",
              "weather_type         7.240770e-03  ...       -0.065609\n",
              "weather_description  7.860773e-03  ...       -0.020095\n",
              "Year                -3.286033e-03  ...       -0.002594\n",
              "Month                9.351555e-03  ...       -0.011304\n",
              "Day                 -8.434129e-04  ...       -0.012332\n",
              "Hour                -6.033693e-02  ...        0.350865\n",
              "Day_of_week         -3.179465e-02  ...       -0.149814\n",
              "traffic_volume      -4.485538e-02  ...        1.000000\n",
              "\n",
              "[18 rows x 18 columns]"
            ]
          },
          "metadata": {
            "tags": []
          },
          "execution_count": 16
        }
      ]
    },
    {
      "cell_type": "code",
      "metadata": {
        "id": "QfckI8wuKXCo",
        "colab_type": "code",
        "colab": {}
      },
      "source": [
        "del df['Year']\n",
        "del df['Month']\n",
        "del df['Day'] #inserted day of week instead.....kind of nichod of dates :}\n",
        "del df['weather_description']\n",
        "del df['wind_direction']"
      ],
      "execution_count": 0,
      "outputs": []
    },
    {
      "cell_type": "code",
      "metadata": {
        "id": "RQ2ReWpYKXCr",
        "colab_type": "code",
        "outputId": "f695abec-fc93-4dea-a1cd-812fae579531",
        "colab": {
          "base_uri": "https://localhost:8080/",
          "height": 226
        }
      },
      "source": [
        "df.head()"
      ],
      "execution_count": 0,
      "outputs": [
        {
          "output_type": "execute_result",
          "data": {
            "text/html": [
              "<div>\n",
              "<style scoped>\n",
              "    .dataframe tbody tr th:only-of-type {\n",
              "        vertical-align: middle;\n",
              "    }\n",
              "\n",
              "    .dataframe tbody tr th {\n",
              "        vertical-align: top;\n",
              "    }\n",
              "\n",
              "    .dataframe thead th {\n",
              "        text-align: right;\n",
              "    }\n",
              "</style>\n",
              "<table border=\"1\" class=\"dataframe\">\n",
              "  <thead>\n",
              "    <tr style=\"text-align: right;\">\n",
              "      <th></th>\n",
              "      <th>is_holiday</th>\n",
              "      <th>air_pollution_index</th>\n",
              "      <th>humidity</th>\n",
              "      <th>wind_speed</th>\n",
              "      <th>visibility_in_miles</th>\n",
              "      <th>temperature</th>\n",
              "      <th>rain_p_h</th>\n",
              "      <th>snow_p_h</th>\n",
              "      <th>clouds_all</th>\n",
              "      <th>weather_type</th>\n",
              "      <th>Hour</th>\n",
              "      <th>Day_of_week</th>\n",
              "      <th>traffic_volume</th>\n",
              "    </tr>\n",
              "  </thead>\n",
              "  <tbody>\n",
              "    <tr>\n",
              "      <th>0</th>\n",
              "      <td>0</td>\n",
              "      <td>121</td>\n",
              "      <td>89</td>\n",
              "      <td>2</td>\n",
              "      <td>1</td>\n",
              "      <td>288.28</td>\n",
              "      <td>0.0</td>\n",
              "      <td>0.0</td>\n",
              "      <td>40</td>\n",
              "      <td>0</td>\n",
              "      <td>9</td>\n",
              "      <td>1</td>\n",
              "      <td>5545</td>\n",
              "    </tr>\n",
              "    <tr>\n",
              "      <th>1</th>\n",
              "      <td>0</td>\n",
              "      <td>178</td>\n",
              "      <td>67</td>\n",
              "      <td>3</td>\n",
              "      <td>1</td>\n",
              "      <td>289.36</td>\n",
              "      <td>0.0</td>\n",
              "      <td>0.0</td>\n",
              "      <td>75</td>\n",
              "      <td>0</td>\n",
              "      <td>10</td>\n",
              "      <td>1</td>\n",
              "      <td>4516</td>\n",
              "    </tr>\n",
              "    <tr>\n",
              "      <th>2</th>\n",
              "      <td>0</td>\n",
              "      <td>113</td>\n",
              "      <td>66</td>\n",
              "      <td>3</td>\n",
              "      <td>2</td>\n",
              "      <td>289.58</td>\n",
              "      <td>0.0</td>\n",
              "      <td>0.0</td>\n",
              "      <td>90</td>\n",
              "      <td>0</td>\n",
              "      <td>11</td>\n",
              "      <td>1</td>\n",
              "      <td>4767</td>\n",
              "    </tr>\n",
              "    <tr>\n",
              "      <th>3</th>\n",
              "      <td>0</td>\n",
              "      <td>20</td>\n",
              "      <td>66</td>\n",
              "      <td>3</td>\n",
              "      <td>5</td>\n",
              "      <td>290.13</td>\n",
              "      <td>0.0</td>\n",
              "      <td>0.0</td>\n",
              "      <td>90</td>\n",
              "      <td>0</td>\n",
              "      <td>12</td>\n",
              "      <td>1</td>\n",
              "      <td>5026</td>\n",
              "    </tr>\n",
              "    <tr>\n",
              "      <th>4</th>\n",
              "      <td>0</td>\n",
              "      <td>281</td>\n",
              "      <td>65</td>\n",
              "      <td>3</td>\n",
              "      <td>7</td>\n",
              "      <td>291.14</td>\n",
              "      <td>0.0</td>\n",
              "      <td>0.0</td>\n",
              "      <td>75</td>\n",
              "      <td>0</td>\n",
              "      <td>13</td>\n",
              "      <td>1</td>\n",
              "      <td>4918</td>\n",
              "    </tr>\n",
              "  </tbody>\n",
              "</table>\n",
              "</div>"
            ],
            "text/plain": [
              "   is_holiday  air_pollution_index  humidity  ...  Hour  Day_of_week  traffic_volume\n",
              "0           0                  121        89  ...     9            1            5545\n",
              "1           0                  178        67  ...    10            1            4516\n",
              "2           0                  113        66  ...    11            1            4767\n",
              "3           0                   20        66  ...    12            1            5026\n",
              "4           0                  281        65  ...    13            1            4918\n",
              "\n",
              "[5 rows x 13 columns]"
            ]
          },
          "metadata": {
            "tags": []
          },
          "execution_count": 18
        }
      ]
    },
    {
      "cell_type": "code",
      "metadata": {
        "id": "CUCDCXCBKXCw",
        "colab_type": "code",
        "outputId": "7cdd0291-76b7-4f80-9693-14a97eaf073c",
        "colab": {
          "base_uri": "https://localhost:8080/",
          "height": 35
        }
      },
      "source": [
        "df.shape"
      ],
      "execution_count": 0,
      "outputs": [
        {
          "output_type": "execute_result",
          "data": {
            "text/plain": [
              "(28589, 13)"
            ]
          },
          "metadata": {
            "tags": []
          },
          "execution_count": 19
        }
      ]
    },
    {
      "cell_type": "code",
      "metadata": {
        "id": "yh43aRRcKXC0",
        "colab_type": "code",
        "colab": {}
      },
      "source": [
        "from sklearn.preprocessing import *"
      ],
      "execution_count": 0,
      "outputs": []
    },
    {
      "cell_type": "code",
      "metadata": {
        "id": "_nAUOPHQKXC4",
        "colab_type": "code",
        "colab": {}
      },
      "source": [
        "X = df.iloc[:, : -1].values\n",
        "y = df.iloc[:, 12].values"
      ],
      "execution_count": 0,
      "outputs": []
    },
    {
      "cell_type": "code",
      "metadata": {
        "id": "M17Nkk5zKXC7",
        "colab_type": "code",
        "outputId": "b08bf3c9-5924-4808-9d1e-b1f3549c1554",
        "colab": {
          "base_uri": "https://localhost:8080/",
          "height": 35
        }
      },
      "source": [
        "y"
      ],
      "execution_count": 0,
      "outputs": [
        {
          "output_type": "execute_result",
          "data": {
            "text/plain": [
              "array([5545, 4516, 4767, ..., 2348, 2194, 1328])"
            ]
          },
          "metadata": {
            "tags": []
          },
          "execution_count": 22
        }
      ]
    },
    {
      "cell_type": "code",
      "metadata": {
        "id": "QYzFL8f2KXDA",
        "colab_type": "code",
        "colab": {}
      },
      "source": [
        "scaler_x = MinMaxScaler()\n",
        "scaler_y = MinMaxScaler()"
      ],
      "execution_count": 0,
      "outputs": []
    },
    {
      "cell_type": "code",
      "metadata": {
        "id": "402prbJtKXDF",
        "colab_type": "code",
        "outputId": "41bfed51-217c-4d77-c3ac-f394e1ade293",
        "colab": {
          "base_uri": "https://localhost:8080/",
          "height": 35
        }
      },
      "source": [
        "scaler_x.fit(X)"
      ],
      "execution_count": 0,
      "outputs": [
        {
          "output_type": "execute_result",
          "data": {
            "text/plain": [
              "MinMaxScaler(copy=True, feature_range=(0, 1))"
            ]
          },
          "metadata": {
            "tags": []
          },
          "execution_count": 24
        }
      ]
    },
    {
      "cell_type": "code",
      "metadata": {
        "id": "P9QdknRlKXDI",
        "colab_type": "code",
        "colab": {}
      },
      "source": [
        "X = scaler_x.transform(X)"
      ],
      "execution_count": 0,
      "outputs": []
    },
    {
      "cell_type": "code",
      "metadata": {
        "id": "pMD8czsJKXDL",
        "colab_type": "code",
        "colab": {}
      },
      "source": [
        "y = y.reshape(-1,1)\n",
        "scaler_y.fit(y)\n",
        "y = scaler_y.transform(y)"
      ],
      "execution_count": 0,
      "outputs": []
    },
    {
      "cell_type": "code",
      "metadata": {
        "id": "8TwoBpqFKXDQ",
        "colab_type": "code",
        "colab": {}
      },
      "source": [
        "from sklearn.model_selection import train_test_split"
      ],
      "execution_count": 0,
      "outputs": []
    },
    {
      "cell_type": "code",
      "metadata": {
        "id": "-BwZYuAyKXDS",
        "colab_type": "code",
        "colab": {}
      },
      "source": [
        "X_train,X_test,y_train,y_test = train_test_split(X,y,test_size=0.2,random_state = 0)"
      ],
      "execution_count": 0,
      "outputs": []
    },
    {
      "cell_type": "code",
      "metadata": {
        "id": "oMqFBoWsecsM",
        "colab_type": "code",
        "colab": {}
      },
      "source": [
        "# import math"
      ],
      "execution_count": 0,
      "outputs": []
    },
    {
      "cell_type": "code",
      "metadata": {
        "id": "NixfKtTvKXDX",
        "colab_type": "code",
        "outputId": "4879a65f-09b3-4d7b-c71c-c308ebe0a454",
        "colab": {
          "base_uri": "https://localhost:8080/",
          "height": 146
        }
      },
      "source": [
        "from sklearn.ensemble import RandomForestRegressor\n",
        "regressor = RandomForestRegressor(n_estimators = 3500, random_state = 50,criterion='mse', max_depth=9)\n",
        "regressor.fit(X_train, y_train)\n",
        "#changes will be proposed in this cell0"
      ],
      "execution_count": 0,
      "outputs": [
        {
          "output_type": "execute_result",
          "data": {
            "text/plain": [
              "RandomForestRegressor(bootstrap=True, criterion='mse', max_depth=9,\n",
              "                      max_features='auto', max_leaf_nodes=None,\n",
              "                      min_impurity_decrease=0.0, min_impurity_split=None,\n",
              "                      min_samples_leaf=1, min_samples_split=2,\n",
              "                      min_weight_fraction_leaf=0.0, n_estimators=3500,\n",
              "                      n_jobs=None, oob_score=False, random_state=50, verbose=0,\n",
              "                      warm_start=False)"
            ]
          },
          "metadata": {
            "tags": []
          },
          "execution_count": 135
        }
      ]
    },
    {
      "cell_type": "code",
      "metadata": {
        "id": "sTH-pA5LYQXT",
        "colab_type": "code",
        "colab": {}
      },
      "source": [
        "# reg = RandomForestRegressor?"
      ],
      "execution_count": 0,
      "outputs": []
    },
    {
      "cell_type": "code",
      "metadata": {
        "id": "VaIdBOWUKXDZ",
        "colab_type": "code",
        "colab": {}
      },
      "source": [
        "# reg = RandomForestRegressor? # refrence here\n",
        " "
      ],
      "execution_count": 0,
      "outputs": []
    },
    {
      "cell_type": "markdown",
      "metadata": {
        "id": "apAauuDhKXDc",
        "colab_type": "text"
      },
      "source": [
        "refrences:   https://scikit-learn.org/stable/modules/generated/sklearn.ensemble.RandomForestRegressor.html"
      ]
    },
    {
      "cell_type": "code",
      "metadata": {
        "id": "escKiZ48KXDd",
        "colab_type": "code",
        "colab": {}
      },
      "source": [
        "#reg = RandomForestRegressor"
      ],
      "execution_count": 0,
      "outputs": []
    },
    {
      "cell_type": "code",
      "metadata": {
        "id": "P5TViWhEKXDh",
        "colab_type": "code",
        "colab": {}
      },
      "source": [
        "y_pred = regressor.predict(X_test)"
      ],
      "execution_count": 0,
      "outputs": []
    },
    {
      "cell_type": "code",
      "metadata": {
        "id": "G1Mnoz2sKXDj",
        "colab_type": "code",
        "colab": {}
      },
      "source": [
        "y_pred = y_pred.reshape(-1,1)\n",
        "y_pred = scaler_y.inverse_transform(y_pred)"
      ],
      "execution_count": 0,
      "outputs": []
    },
    {
      "cell_type": "code",
      "metadata": {
        "id": "unwIM6RsKXDm",
        "colab_type": "code",
        "colab": {}
      },
      "source": [
        "y_test = scaler_y.inverse_transform(y_test)"
      ],
      "execution_count": 0,
      "outputs": []
    },
    {
      "cell_type": "code",
      "metadata": {
        "id": "D4bAOSpRKXDo",
        "colab_type": "code",
        "colab": {}
      },
      "source": [
        "from sklearn.metrics import mean_squared_log_error"
      ],
      "execution_count": 0,
      "outputs": []
    },
    {
      "cell_type": "code",
      "metadata": {
        "id": "rJyEPGvLKXDq",
        "colab_type": "code",
        "outputId": "240e1bf9-cf93-4b20-fa8b-538a3d940916",
        "colab": {
          "base_uri": "https://localhost:8080/",
          "height": 35
        }
      },
      "source": [
        "mean_squared_log_error(y_test,y_pred) # to be improved score"
      ],
      "execution_count": 0,
      "outputs": [
        {
          "output_type": "execute_result",
          "data": {
            "text/plain": [
              "0.06020095508640084"
            ]
          },
          "metadata": {
            "tags": []
          },
          "execution_count": 140
        }
      ]
    },
    {
      "cell_type": "markdown",
      "metadata": {
        "id": "xg69wxa8KXDs",
        "colab_type": "text"
      },
      "source": [
        "#### VISUALISATION OF PRED AND ERROR"
      ]
    },
    {
      "cell_type": "code",
      "metadata": {
        "id": "2JBi8pZNKXDu",
        "colab_type": "code",
        "outputId": "0506fc21-cbb4-4ffa-e16d-c87acd63a468",
        "colab": {
          "base_uri": "https://localhost:8080/",
          "height": 269
        }
      },
      "source": [
        "plt.plot(y_pred)\n",
        "plt.show()"
      ],
      "execution_count": 0,
      "outputs": [
        {
          "output_type": "display_data",
          "data": {
            "image/png": "[encoded data removed]",
            "text/plain": [
              "<Figure size 432x288 with 1 Axes>"
            ]
          },
          "metadata": {
            "tags": []
          }
        }
      ]
    },
    {
      "cell_type": "code",
      "metadata": {
        "id": "xkfaEF4MKXDw",
        "colab_type": "code",
        "colab": {}
      },
      "source": [
        "# previous = mean_squared_log_error(y_test,y_pred.astype(int))"
      ],
      "execution_count": 0,
      "outputs": []
    },
    {
      "cell_type": "code",
      "metadata": {
        "id": "-HoGbSeBPK9r",
        "colab_type": "code",
        "colab": {}
      },
      "source": [
        ""
      ],
      "execution_count": 0,
      "outputs": []
    },
    {
      "cell_type": "code",
      "metadata": {
        "id": "3AqlCfllKXDz",
        "colab_type": "code",
        "colab": {}
      },
      "source": [
        ""
      ],
      "execution_count": 0,
      "outputs": []
    }
  ]
}